{
 "cells": [
  {
   "cell_type": "markdown",
   "metadata": {},
   "source": [
    "# EDA\n",
    "\n"
   ]
  },
  {
   "cell_type": "markdown",
   "metadata": {},
   "source": [
    "## import required packages"
   ]
  },
  {
   "cell_type": "code",
   "execution_count": 2,
   "metadata": {
    "collapsed": false,
    "nbpresent": {
     "id": "2283f4a9-bb86-43da-8e75-db6f3707f9dd"
    }
   },
   "outputs": [
    {
     "name": "stdout",
     "output_type": "stream",
     "text": [
      "imports ok\n"
     ]
    }
   ],
   "source": [
    "import numpy as np\n",
    "import math\n",
    "import scipy.stats as stats\n",
    "import seaborn as sns\n",
    "import matplotlib.pyplot as plt\n",
    "import pandas as pd\n",
    "sns.set_style('whitegrid')\n",
    "  \n",
    "import glob\n",
    "import folium\n",
    "#import dask.dataframe as dd\n",
    "%config InlineBackend.figure_format = 'retina'\n",
    "%matplotlib inline\n",
    "print('imports ok')"
   ]
  },
  {
   "cell_type": "markdown",
   "metadata": {},
   "source": [
    "### read ArcGIS derived file showing distances (m) of presence observations to nearest Lake shoreline"
   ]
  },
  {
   "cell_type": "code",
   "execution_count": 3,
   "metadata": {
    "collapsed": false,
    "nbpresent": {
     "id": "0874ce55-f2ce-4f7f-bb27-4ed4bcef1082"
    }
   },
   "outputs": [
    {
     "name": "stdout",
     "output_type": "stream",
     "text": [
      "../greatlakes/observations_to_shore_distances.csv read\n",
      "<class 'pandas.core.frame.DataFrame'>\n",
      "RangeIndex: 2651 entries, 0 to 2650\n",
      "Data columns (total 10 columns):\n",
      "OBJECTID      2651 non-null int64\n",
      "IN_FID        2651 non-null int64\n",
      "NEAR_FID      2651 non-null int64\n",
      "NEAR_DIST     2651 non-null float64\n",
      "NEAR_RANK     2651 non-null int64\n",
      "FROM_X        2651 non-null float64\n",
      "FROM_Y        2651 non-null float64\n",
      "NEAR_X        2651 non-null float64\n",
      "NEAR_Y        2651 non-null float64\n",
      "NEAR_ANGLE    2651 non-null float64\n",
      "dtypes: float64(6), int64(4)\n",
      "memory usage: 207.2 KB\n"
     ]
    },
    {
     "data": {
      "text/html": [
       "<div>\n",
       "<style scoped>\n",
       "    .dataframe tbody tr th:only-of-type {\n",
       "        vertical-align: middle;\n",
       "    }\n",
       "\n",
       "    .dataframe tbody tr th {\n",
       "        vertical-align: top;\n",
       "    }\n",
       "\n",
       "    .dataframe thead th {\n",
       "        text-align: right;\n",
       "    }\n",
       "</style>\n",
       "<table border=\"1\" class=\"dataframe\">\n",
       "  <thead>\n",
       "    <tr style=\"text-align: right;\">\n",
       "      <th></th>\n",
       "      <th>OBJECTID</th>\n",
       "      <th>IN_FID</th>\n",
       "      <th>NEAR_FID</th>\n",
       "      <th>NEAR_DIST</th>\n",
       "      <th>NEAR_RANK</th>\n",
       "      <th>FROM_X</th>\n",
       "      <th>FROM_Y</th>\n",
       "      <th>NEAR_X</th>\n",
       "      <th>NEAR_Y</th>\n",
       "      <th>NEAR_ANGLE</th>\n",
       "    </tr>\n",
       "  </thead>\n",
       "  <tbody>\n",
       "    <tr>\n",
       "      <th>count</th>\n",
       "      <td>2651.000000</td>\n",
       "      <td>2651.000000</td>\n",
       "      <td>2651.000000</td>\n",
       "      <td>2651.000000</td>\n",
       "      <td>2651.0</td>\n",
       "      <td>2651.000000</td>\n",
       "      <td>2651.000000</td>\n",
       "      <td>2651.000000</td>\n",
       "      <td>2651.000000</td>\n",
       "      <td>2651.000000</td>\n",
       "    </tr>\n",
       "    <tr>\n",
       "      <th>mean</th>\n",
       "      <td>1326.000000</td>\n",
       "      <td>28941.717088</td>\n",
       "      <td>7680.984911</td>\n",
       "      <td>199.275466</td>\n",
       "      <td>1.0</td>\n",
       "      <td>-84.116729</td>\n",
       "      <td>44.138129</td>\n",
       "      <td>-84.116881</td>\n",
       "      <td>44.138641</td>\n",
       "      <td>-7.049306</td>\n",
       "    </tr>\n",
       "    <tr>\n",
       "      <th>std</th>\n",
       "      <td>765.422106</td>\n",
       "      <td>13034.662817</td>\n",
       "      <td>6890.065403</td>\n",
       "      <td>359.338479</td>\n",
       "      <td>0.0</td>\n",
       "      <td>3.239328</td>\n",
       "      <td>1.540841</td>\n",
       "      <td>3.238750</td>\n",
       "      <td>1.541161</td>\n",
       "      <td>83.545169</td>\n",
       "    </tr>\n",
       "    <tr>\n",
       "      <th>min</th>\n",
       "      <td>1.000000</td>\n",
       "      <td>1.000000</td>\n",
       "      <td>198.000000</td>\n",
       "      <td>0.004819</td>\n",
       "      <td>1.0</td>\n",
       "      <td>-92.147533</td>\n",
       "      <td>41.475917</td>\n",
       "      <td>-92.094395</td>\n",
       "      <td>41.474354</td>\n",
       "      <td>-179.999992</td>\n",
       "    </tr>\n",
       "    <tr>\n",
       "      <th>25%</th>\n",
       "      <td>663.500000</td>\n",
       "      <td>19353.500000</td>\n",
       "      <td>3112.000000</td>\n",
       "      <td>50.889688</td>\n",
       "      <td>1.0</td>\n",
       "      <td>-86.342695</td>\n",
       "      <td>42.790592</td>\n",
       "      <td>-86.343372</td>\n",
       "      <td>42.789998</td>\n",
       "      <td>-47.495404</td>\n",
       "    </tr>\n",
       "    <tr>\n",
       "      <th>50%</th>\n",
       "      <td>1326.000000</td>\n",
       "      <td>29021.000000</td>\n",
       "      <td>5568.000000</td>\n",
       "      <td>130.589006</td>\n",
       "      <td>1.0</td>\n",
       "      <td>-84.953003</td>\n",
       "      <td>44.256983</td>\n",
       "      <td>-84.952006</td>\n",
       "      <td>44.257957</td>\n",
       "      <td>-13.072808</td>\n",
       "    </tr>\n",
       "    <tr>\n",
       "      <th>75%</th>\n",
       "      <td>1988.500000</td>\n",
       "      <td>42552.000000</td>\n",
       "      <td>7477.000000</td>\n",
       "      <td>147.754357</td>\n",
       "      <td>1.0</td>\n",
       "      <td>-82.142544</td>\n",
       "      <td>44.732132</td>\n",
       "      <td>-82.143406</td>\n",
       "      <td>44.731726</td>\n",
       "      <td>43.005303</td>\n",
       "    </tr>\n",
       "    <tr>\n",
       "      <th>max</th>\n",
       "      <td>2651.000000</td>\n",
       "      <td>49322.000000</td>\n",
       "      <td>46262.000000</td>\n",
       "      <td>7852.895004</td>\n",
       "      <td>1.0</td>\n",
       "      <td>-76.195464</td>\n",
       "      <td>46.783240</td>\n",
       "      <td>-76.196535</td>\n",
       "      <td>46.779289</td>\n",
       "      <td>177.518952</td>\n",
       "    </tr>\n",
       "  </tbody>\n",
       "</table>\n",
       "</div>"
      ],
      "text/plain": [
       "          OBJECTID        IN_FID      NEAR_FID    NEAR_DIST  NEAR_RANK  \\\n",
       "count  2651.000000   2651.000000   2651.000000  2651.000000     2651.0   \n",
       "mean   1326.000000  28941.717088   7680.984911   199.275466        1.0   \n",
       "std     765.422106  13034.662817   6890.065403   359.338479        0.0   \n",
       "min       1.000000      1.000000    198.000000     0.004819        1.0   \n",
       "25%     663.500000  19353.500000   3112.000000    50.889688        1.0   \n",
       "50%    1326.000000  29021.000000   5568.000000   130.589006        1.0   \n",
       "75%    1988.500000  42552.000000   7477.000000   147.754357        1.0   \n",
       "max    2651.000000  49322.000000  46262.000000  7852.895004        1.0   \n",
       "\n",
       "            FROM_X       FROM_Y       NEAR_X       NEAR_Y   NEAR_ANGLE  \n",
       "count  2651.000000  2651.000000  2651.000000  2651.000000  2651.000000  \n",
       "mean    -84.116729    44.138129   -84.116881    44.138641    -7.049306  \n",
       "std       3.239328     1.540841     3.238750     1.541161    83.545169  \n",
       "min     -92.147533    41.475917   -92.094395    41.474354  -179.999992  \n",
       "25%     -86.342695    42.790592   -86.343372    42.789998   -47.495404  \n",
       "50%     -84.953003    44.256983   -84.952006    44.257957   -13.072808  \n",
       "75%     -82.142544    44.732132   -82.143406    44.731726    43.005303  \n",
       "max     -76.195464    46.783240   -76.196535    46.779289   177.518952  "
      ]
     },
     "execution_count": 3,
     "metadata": {},
     "output_type": "execute_result"
    }
   ],
   "source": [
    "\n",
    "dist = '../greatlakes/observations_to_shore_distances.csv'\n",
    "dfdist = pd.DataFrame()\n",
    "dfdist = pd.read_csv(dist, encoding=\"ISO-8859-1\")\n",
    "print(dist + \" read\")\n",
    "\n",
    "dfdist.info()\n",
    "dfdist.describe()\n"
   ]
  },
  {
   "cell_type": "markdown",
   "metadata": {},
   "source": [
    "### determine percentiles \n",
    "### outliers determined by using rule of thumb; > one and half times the interquartile range above the median.\n",
    "### therfore outliers are more than 276m from the shoreline.\n",
    "### why? a cut-off is required to extract absence data within the range that Piping Plovers can be seen.\n",
    "### for future development: extract data based on spectral analyis to determine beach and sand dune areas."
   ]
  },
  {
   "cell_type": "code",
   "execution_count": 4,
   "metadata": {
    "collapsed": false,
    "nbpresent": {
     "id": "f3b0905d-3ff7-46db-9e9e-e5ccb999efef"
    }
   },
   "outputs": [
    {
     "name": "stdout",
     "output_type": "stream",
     "text": [
      "0.05      5.723936\n",
      "0.25     50.889688\n",
      "0.50    130.589006\n",
      "0.75    147.754357\n",
      "0.95    834.246446\n",
      "Name: NEAR_DIST, dtype: float64\n",
      "Assume outliers are over:  276\n"
     ]
    }
   ],
   "source": [
    "print(dfdist.NEAR_DIST.quantile([0.05, 0.25,0.5,0.75, 0.95]))\n",
    "a, b, c, d, e = dfdist.NEAR_DIST.quantile([0.05, 0.25,0.5,0.75, 0.95])\n",
    "\n",
    "# compute outliers limit\n",
    "o = c+1.5*(d-b)\n",
    "print(\"Assume outliers are over: \",round(o))\n"
   ]
  },
  {
   "cell_type": "markdown",
   "metadata": {},
   "source": [
    "### distribution of Piping Plovers from the shoreline "
   ]
  },
  {
   "cell_type": "code",
   "execution_count": 5,
   "metadata": {
    "collapsed": false,
    "nbpresent": {
     "id": "9f345056-643a-4fd3-b31d-7155d9d4cbea"
    }
   },
   "outputs": [
    {
     "name": "stderr",
     "output_type": "stream",
     "text": [
      "C:\\Users\\Wayne\\Anaconda3\\lib\\site-packages\\matplotlib\\axes\\_axes.py:6462: UserWarning: The 'normed' kwarg is deprecated, and has been replaced by the 'density' kwarg.\n",
      "  warnings.warn(\"The 'normed' kwarg is deprecated, and has been \"\n"
     ]
    },
    {
     "name": "stdout",
     "output_type": "stream",
     "text": [
      "AxesSubplot(0.125,0.125;0.775x0.755)\n"
     ]
    },
    {
     "data": {
      "image/png": "[encoded data removed]",
      "text/plain": [
       "<Figure size 432x288 with 1 Axes>"
      ]
     },
     "metadata": {
      "image/png": {
       "height": 262,
       "width": 380
      }
     },
     "output_type": "display_data"
    }
   ],
   "source": [
    "a = sns.distplot(dfdist[\"NEAR_DIST\"], kde=False, bins=50)\n",
    "print(a)\n"
   ]
  },
  {
   "cell_type": "markdown",
   "metadata": {
    "nbpresent": {
     "id": "03cb001e-59a3-4676-867e-190ef9c1efe0"
    }
   },
   "source": [
    "### remove the outliers; one and half times the interquartile range above the median.\n",
    "\n",
    "### histogram shows distribution with outliers removed. Median is 130m with a sharp decline more than 150m"
   ]
  },
  {
   "cell_type": "code",
   "execution_count": 6,
   "metadata": {
    "collapsed": false,
    "nbpresent": {
     "id": "d9000261-e880-49ec-a31a-0e69fb1d5905"
    }
   },
   "outputs": [
    {
     "name": "stderr",
     "output_type": "stream",
     "text": [
      "C:\\Users\\Wayne\\Anaconda3\\lib\\site-packages\\matplotlib\\axes\\_axes.py:6462: UserWarning: The 'normed' kwarg is deprecated, and has been replaced by the 'density' kwarg.\n",
      "  warnings.warn(\"The 'normed' kwarg is deprecated, and has been \"\n"
     ]
    },
    {
     "name": "stdout",
     "output_type": "stream",
     "text": [
      "AxesSubplot(0.125,0.125;0.775x0.755)\n"
     ]
    },
    {
     "data": {
      "image/png": "[encoded data removed]",
      "text/plain": [
       "<Figure size 432x288 with 1 Axes>"
      ]
     },
     "metadata": {
      "image/png": {
       "height": 262,
       "width": 372
      }
     },
     "output_type": "display_data"
    }
   ],
   "source": [
    "\n",
    "dfdist2 = dfdist[dfdist.NEAR_DIST < 276]\n",
    "\n",
    "a = sns.distplot(dfdist2[\"NEAR_DIST\"], kde=False, bins=50)\n",
    "print(a)"
   ]
  },
  {
   "cell_type": "markdown",
   "metadata": {},
   "source": [
    "##                  Great Lakes showing presence of Piping Plovers within 276m of shoreline (ArcGIS)"
   ]
  },
  {
   "cell_type": "markdown",
   "metadata": {},
   "source": [
    "<img src=\"..\\great_lakes.jpg\"> "
   ]
  },
  {
   "cell_type": "markdown",
   "metadata": {},
   "source": [
    "### ArcGIS derived dataset for nearness to wetlands"
   ]
  },
  {
   "cell_type": "code",
   "execution_count": 7,
   "metadata": {
    "collapsed": false,
    "nbpresent": {
     "id": "88ed435f-ad47-4818-8cd0-3901379f9c20"
    }
   },
   "outputs": [
    {
     "name": "stdout",
     "output_type": "stream",
     "text": [
      "../greatlakes/observations_to_wetlands_distances.csv read\n",
      "<class 'pandas.core.frame.DataFrame'>\n",
      "RangeIndex: 2651 entries, 0 to 2650\n",
      "Data columns (total 10 columns):\n",
      "OBJECTID      2651 non-null int64\n",
      "IN_FID        2651 non-null int64\n",
      "NEAR_FID      2651 non-null int64\n",
      "NEAR_DIST     2651 non-null float64\n",
      "NEAR_RANK     2651 non-null int64\n",
      "FROM_X        2651 non-null float64\n",
      "FROM_Y        2651 non-null float64\n",
      "NEAR_X        2651 non-null float64\n",
      "NEAR_Y        2651 non-null float64\n",
      "NEAR_ANGLE    2651 non-null float64\n",
      "dtypes: float64(6), int64(4)\n",
      "memory usage: 207.2 KB\n"
     ]
    },
    {
     "data": {
      "text/html": [
       "<div>\n",
       "<style scoped>\n",
       "    .dataframe tbody tr th:only-of-type {\n",
       "        vertical-align: middle;\n",
       "    }\n",
       "\n",
       "    .dataframe tbody tr th {\n",
       "        vertical-align: top;\n",
       "    }\n",
       "\n",
       "    .dataframe thead th {\n",
       "        text-align: right;\n",
       "    }\n",
       "</style>\n",
       "<table border=\"1\" class=\"dataframe\">\n",
       "  <thead>\n",
       "    <tr style=\"text-align: right;\">\n",
       "      <th></th>\n",
       "      <th>OBJECTID</th>\n",
       "      <th>IN_FID</th>\n",
       "      <th>NEAR_FID</th>\n",
       "      <th>NEAR_DIST</th>\n",
       "      <th>NEAR_RANK</th>\n",
       "      <th>FROM_X</th>\n",
       "      <th>FROM_Y</th>\n",
       "      <th>NEAR_X</th>\n",
       "      <th>NEAR_Y</th>\n",
       "      <th>NEAR_ANGLE</th>\n",
       "    </tr>\n",
       "  </thead>\n",
       "  <tbody>\n",
       "    <tr>\n",
       "      <th>count</th>\n",
       "      <td>2651.000000</td>\n",
       "      <td>2651.000000</td>\n",
       "      <td>2651.000000</td>\n",
       "      <td>2651.000000</td>\n",
       "      <td>2651.0</td>\n",
       "      <td>2651.000000</td>\n",
       "      <td>2651.000000</td>\n",
       "      <td>2651.000000</td>\n",
       "      <td>2651.000000</td>\n",
       "      <td>2651.000000</td>\n",
       "    </tr>\n",
       "    <tr>\n",
       "      <th>mean</th>\n",
       "      <td>1326.000000</td>\n",
       "      <td>28941.717088</td>\n",
       "      <td>4803.571105</td>\n",
       "      <td>4004.070286</td>\n",
       "      <td>1.0</td>\n",
       "      <td>-84.116729</td>\n",
       "      <td>44.138129</td>\n",
       "      <td>-84.109241</td>\n",
       "      <td>44.141342</td>\n",
       "      <td>31.979625</td>\n",
       "    </tr>\n",
       "    <tr>\n",
       "      <th>std</th>\n",
       "      <td>765.422106</td>\n",
       "      <td>13034.662817</td>\n",
       "      <td>2155.620758</td>\n",
       "      <td>9078.695411</td>\n",
       "      <td>0.0</td>\n",
       "      <td>3.239328</td>\n",
       "      <td>1.540841</td>\n",
       "      <td>3.249390</td>\n",
       "      <td>1.538446</td>\n",
       "      <td>105.052346</td>\n",
       "    </tr>\n",
       "    <tr>\n",
       "      <th>min</th>\n",
       "      <td>1.000000</td>\n",
       "      <td>1.000000</td>\n",
       "      <td>98.000000</td>\n",
       "      <td>0.000000</td>\n",
       "      <td>1.0</td>\n",
       "      <td>-92.147533</td>\n",
       "      <td>41.475917</td>\n",
       "      <td>-92.135250</td>\n",
       "      <td>41.436363</td>\n",
       "      <td>-178.528362</td>\n",
       "    </tr>\n",
       "    <tr>\n",
       "      <th>25%</th>\n",
       "      <td>663.500000</td>\n",
       "      <td>19353.500000</td>\n",
       "      <td>2656.000000</td>\n",
       "      <td>112.276802</td>\n",
       "      <td>1.0</td>\n",
       "      <td>-86.342695</td>\n",
       "      <td>42.790592</td>\n",
       "      <td>-86.309102</td>\n",
       "      <td>42.671340</td>\n",
       "      <td>-69.596409</td>\n",
       "    </tr>\n",
       "    <tr>\n",
       "      <th>50%</th>\n",
       "      <td>1326.000000</td>\n",
       "      <td>29021.000000</td>\n",
       "      <td>5220.000000</td>\n",
       "      <td>334.870428</td>\n",
       "      <td>1.0</td>\n",
       "      <td>-84.953003</td>\n",
       "      <td>44.256983</td>\n",
       "      <td>-84.957269</td>\n",
       "      <td>44.256021</td>\n",
       "      <td>28.495622</td>\n",
       "    </tr>\n",
       "    <tr>\n",
       "      <th>75%</th>\n",
       "      <td>1988.500000</td>\n",
       "      <td>42552.000000</td>\n",
       "      <td>6816.000000</td>\n",
       "      <td>2610.011409</td>\n",
       "      <td>1.0</td>\n",
       "      <td>-82.142544</td>\n",
       "      <td>44.732132</td>\n",
       "      <td>-82.171593</td>\n",
       "      <td>44.731863</td>\n",
       "      <td>153.884933</td>\n",
       "    </tr>\n",
       "    <tr>\n",
       "      <th>max</th>\n",
       "      <td>2651.000000</td>\n",
       "      <td>49322.000000</td>\n",
       "      <td>7865.000000</td>\n",
       "      <td>63582.071244</td>\n",
       "      <td>1.0</td>\n",
       "      <td>-76.195464</td>\n",
       "      <td>46.783240</td>\n",
       "      <td>-76.194090</td>\n",
       "      <td>46.770084</td>\n",
       "      <td>179.395353</td>\n",
       "    </tr>\n",
       "  </tbody>\n",
       "</table>\n",
       "</div>"
      ],
      "text/plain": [
       "          OBJECTID        IN_FID     NEAR_FID     NEAR_DIST  NEAR_RANK  \\\n",
       "count  2651.000000   2651.000000  2651.000000   2651.000000     2651.0   \n",
       "mean   1326.000000  28941.717088  4803.571105   4004.070286        1.0   \n",
       "std     765.422106  13034.662817  2155.620758   9078.695411        0.0   \n",
       "min       1.000000      1.000000    98.000000      0.000000        1.0   \n",
       "25%     663.500000  19353.500000  2656.000000    112.276802        1.0   \n",
       "50%    1326.000000  29021.000000  5220.000000    334.870428        1.0   \n",
       "75%    1988.500000  42552.000000  6816.000000   2610.011409        1.0   \n",
       "max    2651.000000  49322.000000  7865.000000  63582.071244        1.0   \n",
       "\n",
       "            FROM_X       FROM_Y       NEAR_X       NEAR_Y   NEAR_ANGLE  \n",
       "count  2651.000000  2651.000000  2651.000000  2651.000000  2651.000000  \n",
       "mean    -84.116729    44.138129   -84.109241    44.141342    31.979625  \n",
       "std       3.239328     1.540841     3.249390     1.538446   105.052346  \n",
       "min     -92.147533    41.475917   -92.135250    41.436363  -178.528362  \n",
       "25%     -86.342695    42.790592   -86.309102    42.671340   -69.596409  \n",
       "50%     -84.953003    44.256983   -84.957269    44.256021    28.495622  \n",
       "75%     -82.142544    44.732132   -82.171593    44.731863   153.884933  \n",
       "max     -76.195464    46.783240   -76.194090    46.770084   179.395353  "
      ]
     },
     "execution_count": 7,
     "metadata": {},
     "output_type": "execute_result"
    }
   ],
   "source": [
    "\n",
    "w = '../greatlakes/observations_to_wetlands_distances.csv'\n",
    "dfwet = pd.DataFrame()\n",
    "dfwet = pd.read_csv(w, encoding=\"ISO-8859-1\")\n",
    "print(w + \" read\")\n",
    "\n",
    "dfwet.info()\n",
    "dfwet.describe()"
   ]
  },
  {
   "cell_type": "markdown",
   "metadata": {},
   "source": [
    "### histogram showing distribution of Piping Plovers observations distance to wetlands"
   ]
  },
  {
   "cell_type": "code",
   "execution_count": 8,
   "metadata": {
    "collapsed": false,
    "nbpresent": {
     "id": "87f0c0c2-75be-479d-8b64-666b5e8e856f"
    },
    "scrolled": true
   },
   "outputs": [
    {
     "name": "stdout",
     "output_type": "stream",
     "text": [
      "AxesSubplot(0.125,0.125;0.775x0.755)\n"
     ]
    },
    {
     "name": "stderr",
     "output_type": "stream",
     "text": [
      "C:\\Users\\Wayne\\Anaconda3\\lib\\site-packages\\matplotlib\\axes\\_axes.py:6462: UserWarning: The 'normed' kwarg is deprecated, and has been replaced by the 'density' kwarg.\n",
      "  warnings.warn(\"The 'normed' kwarg is deprecated, and has been \"\n"
     ]
    },
    {
     "data": {
      "image/png": "[encoded data removed]",
      "text/plain": [
       "<Figure size 432x288 with 1 Axes>"
      ]
     },
     "metadata": {
      "image/png": {
       "height": 262,
       "width": 378
      }
     },
     "output_type": "display_data"
    }
   ],
   "source": [
    "a = sns.distplot(dfwet[\"NEAR_DIST\"], kde=False, bins=50)\n",
    "print(a)"
   ]
  },
  {
   "cell_type": "markdown",
   "metadata": {},
   "source": [
    "### determine percentiles and outliers as for shorline distances"
   ]
  },
  {
   "cell_type": "code",
   "execution_count": 9,
   "metadata": {
    "collapsed": false,
    "nbpresent": {
     "id": "8b177181-7a67-400e-b0fa-8b609519d8ad"
    }
   },
   "outputs": [
    {
     "name": "stdout",
     "output_type": "stream",
     "text": [
      "0.05       32.935166\n",
      "0.25      112.276802\n",
      "0.50      334.870428\n",
      "0.75     2610.011409\n",
      "0.95    26947.655816\n",
      "Name: NEAR_DIST, dtype: float64\n",
      "Assume outliers are over:  4081\n"
     ]
    }
   ],
   "source": [
    "print(dfwet.NEAR_DIST.quantile([0.05, 0.25,0.5,0.75, 0.95]))\n",
    "a, b, c, d, e = dfwet.NEAR_DIST.quantile([0.05, 0.25,0.5,0.75, 0.95])\n",
    "\n",
    "# computer outliers limit\n",
    "o = c+1.5*(d-b)\n",
    "print(\"Assume outliers are over: \",round(o))\n"
   ]
  },
  {
   "cell_type": "markdown",
   "metadata": {},
   "source": [
    "### distribution of Piping Plovers from wetlands with outliers greater than 4081m removed\n"
   ]
  },
  {
   "cell_type": "code",
   "execution_count": 10,
   "metadata": {
    "collapsed": false,
    "nbpresent": {
     "id": "503ec326-a177-4e8a-8e79-21bbe1e7c90d"
    }
   },
   "outputs": [
    {
     "name": "stderr",
     "output_type": "stream",
     "text": [
      "C:\\Users\\Wayne\\Anaconda3\\lib\\site-packages\\matplotlib\\axes\\_axes.py:6462: UserWarning: The 'normed' kwarg is deprecated, and has been replaced by the 'density' kwarg.\n",
      "  warnings.warn(\"The 'normed' kwarg is deprecated, and has been \"\n"
     ]
    },
    {
     "name": "stdout",
     "output_type": "stream",
     "text": [
      "AxesSubplot(0.125,0.125;0.775x0.755)\n"
     ]
    },
    {
     "data": {
      "image/png": "[encoded data removed]",
      "text/plain": [
       "<Figure size 432x288 with 1 Axes>"
      ]
     },
     "metadata": {
      "image/png": {
       "height": 262,
       "width": 372
      }
     },
     "output_type": "display_data"
    }
   ],
   "source": [
    "\n",
    "dfwet2 = dfwet[dfwet.NEAR_DIST < 4081]\n",
    "\n",
    "a = sns.distplot(dfwet2[\"NEAR_DIST\"], kde=False, bins=50)\n",
    "print(a)"
   ]
  },
  {
   "cell_type": "markdown",
   "metadata": {},
   "source": [
    "### boxplots showing distances from shorelines and wetlands "
   ]
  },
  {
   "cell_type": "code",
   "execution_count": 11,
   "metadata": {
    "collapsed": false,
    "nbpresent": {
     "id": "ae824403-2376-47de-9d7a-605d8b953622"
    }
   },
   "outputs": [
    {
     "name": "stderr",
     "output_type": "stream",
     "text": [
      "C:\\Users\\Wayne\\Anaconda3\\lib\\site-packages\\seaborn\\categorical.py:454: FutureWarning: remove_na is deprecated and is a private function. Do not use.\n",
      "  box_data = remove_na(group_data)\n"
     ]
    },
    {
     "data": {
      "image/png": "[encoded data removed]",
      "text/plain": [
       "<Figure size 432x288 with 1 Axes>"
      ]
     },
     "metadata": {
      "image/png": {
       "height": 248,
       "width": 386
      }
     },
     "output_type": "display_data"
    },
    {
     "data": {
      "image/png": "[encoded data removed]",
      "text/plain": [
       "<Figure size 432x288 with 1 Axes>"
      ]
     },
     "metadata": {
      "image/png": {
       "height": 248,
       "width": 392
      }
     },
     "output_type": "display_data"
    }
   ],
   "source": [
    "import seaborn as sns\n",
    "\n",
    "sns.boxplot(y = 'NEAR_DIST', data = dfdist2)\n",
    "plt.xticks([0], ['DISTANCE FROM SHORELINE (m)'])\n",
    "\n",
    "plt.show()\n",
    "sns.boxplot(y = 'NEAR_DIST', data = dfwet2)\n",
    "plt.xticks([0], ['DISTANCE FROM WETLAND (m)'])\n",
    "\n",
    "\n",
    "plt.show()\n"
   ]
  },
  {
   "cell_type": "markdown",
   "metadata": {},
   "source": [
    "<img src=\"..\\cap1.jpg\"> "
   ]
  },
  {
   "cell_type": "code",
   "execution_count": null,
   "metadata": {
    "collapsed": true
   },
   "outputs": [],
   "source": []
  }
 ],
 "metadata": {
  "anaconda-cloud": {},
  "kernelspec": {
   "display_name": "Python [default]",
   "language": "python",
   "name": "python3"
  },
  "language_info": {
   "codemirror_mode": {
    "name": "ipython",
    "version": 3
   },
   "file_extension": ".py",
   "mimetype": "text/x-python",
   "name": "python",
   "nbconvert_exporter": "python",
   "pygments_lexer": "ipython3",
   "version": "3.5.5"
  }
 },
 "nbformat": 4,
 "nbformat_minor": 1
}
