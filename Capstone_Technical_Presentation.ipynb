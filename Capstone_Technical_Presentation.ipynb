{
 "cells": [
  {
   "cell_type": "markdown",
   "metadata": {},
   "source": [
    "## Part 4: Findings + Technical Report"
   ]
  },
  {
   "cell_type": "markdown",
   "metadata": {},
   "source": [
    "## Executive Summary\n",
    "\n",
    "### GOAL:\n",
    "Discover the distribution of landscape suitability for Piping Plovers across the Great Lakes region of the USA? \n",
    "\n",
    "### Metrics:\n",
    "What are the landscape metrics associated with Piping Plover observation locations in this region?\n",
    "\n",
    "### Potential Audience: \n",
    "To help environmental managers determine habitat characteristics and locations for nesting Piping Plovers\n",
    "\n",
    "### Data Sources:\n",
    "The eBird Reference Dataset Version 2016.\n",
    "Great Lakes Coastal Wetlands Consortium\n",
    "Features derived using ArcGIS software\n",
    "Scientific Journals for domain knowledge\n",
    "\n",
    "### Findings:\n",
    "The project discovered key physical landscape features that are associated with Piping Plover sightings. Namely distance from shorelines are ideally betweek 50m and 150m, and there is a preference for sandy shorelines. The logistic regression model\n",
    "is able to predict locations better than the mean baseline.\n",
    "\n",
    "### Assumptions and Risks:\n",
    "The project is still a work in progress, and further refinement of the model is required. \n"
   ]
  },
  {
   "cell_type": "code",
   "execution_count": null,
   "metadata": {
    "collapsed": true
   },
   "outputs": [],
   "source": [
    "from sklearn.decomposition import FactorAnalysis\n",
    "factor = FactorAnalysis(n_components=9, random_state=101).fit(df)\n",
    "print (pd.DataFrame(factor.components_,columns=df.columns))\n",
    "\n",
    "from sklearn.decomposition import PCA\n",
    "pca = PCA().fit(df)\n",
    "print ('Explained variance by component: %s' % pca.explained_variance_ratio_)\n",
    "print (pd.DataFrame(pca.components_,columns=df.columns))\n",
    "\n",
    "\n"
   ]
  }
 ],
 "metadata": {
  "kernelspec": {
   "display_name": "Python [default]",
   "language": "python",
   "name": "python3"
  },
  "language_info": {
   "codemirror_mode": {
    "name": "ipython",
    "version": 3
   },
   "file_extension": ".py",
   "mimetype": "text/x-python",
   "name": "python",
   "nbconvert_exporter": "python",
   "pygments_lexer": "ipython3",
   "version": "3.5.2"
  }
 },
 "nbformat": 4,
 "nbformat_minor": 1
}
