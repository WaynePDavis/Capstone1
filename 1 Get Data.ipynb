{
 "cells": [
  {
   "cell_type": "markdown",
   "metadata": {},
   "source": [
    "## Executive Summary\n",
    "\n",
    "### GOAL:\n",
    "Discover the distribution of landscape suitability for Piping Plovers across the Great Lakes region of the USA? \n",
    "\n",
    "### Metrics:\n",
    "What are the landscape metrics associated with Piping Plover observation locations in this region?\n",
    "AUCROC will be used as a scoring measure due to the resampling requirement. \n",
    "\n",
    "### Potential Audience: \n",
    "To help environmental managers determine habitat characteristics and locations for Piping Plovers\n",
    "\n",
    "### Data Sources:\n",
    "\n",
    "<ul>\n",
    "<li>The eBird Reference Dataset Version 2016:\n",
    "    <ul>\n",
    "    <li>checklist (bird observations of all species)\n",
    "    <li>extended covarites (associated physical landscape features linked by sample_id)\n",
    "    </ul>\n",
    "    \n",
    "<li>Great Lakes Coastal Wetlands Consortium:\n",
    "    <ul>\n",
    "    <li>wetlands\n",
    "    <li>wetlands information\n",
    "    <li>shoreline classes\n",
    "    <li>shore polygon (lakes)\n",
    "    <li>islands\n",
    "    <li>reefs\n",
    "    <li>roads for Canada and USA\n",
    "    </ul>           \n",
    "    \n",
    "<li>Features derived using ArcGIS \"Near\" tool / distance to nearest physical features:<ul> \n",
    "        <li>wetlands, \n",
    "        <il>shorelines,\n",
    "        <il>islands,\n",
    "        <il>reefs,\n",
    "        <il>roads\n",
    "        </ul> \n",
    "        \n",
    "<li>Scientific Journals for domain knowledge\n",
    "\n",
    "</ul> \n",
    "### Findings:\n",
    "The project discovered key physical landscape features that are associated with Piping Plover sightings. Namely distance from shorelines are ideally closer than 150m, and there is a preference for sandy shorelines. \n",
    "\n",
    "### Assumptions and Risks:\n",
    "The project is still a work in progress, and further refinement of the model is required. \n"
   ]
  },
  {
   "cell_type": "markdown",
   "metadata": {},
   "source": [
    "<hr>\n",
    "\n",
    "## import required packages"
   ]
  },
  {
   "cell_type": "code",
   "execution_count": 1,
   "metadata": {
    "collapsed": false
   },
   "outputs": [
    {
     "name": "stdout",
     "output_type": "stream",
     "text": [
      "imports ok\n"
     ]
    }
   ],
   "source": [
    "import numpy as np\n",
    "import scipy.stats as stats\n",
    "import seaborn as sns\n",
    "import matplotlib.pyplot as plt\n",
    "import pandas as pd\n",
    "sns.set_style('whitegrid')\n",
    "import glob\n",
    "import folium\n",
    "%config InlineBackend.figure_format = 'retina'\n",
    "%matplotlib inline\n",
    "print('imports ok')"
   ]
  },
  {
   "cell_type": "markdown",
   "metadata": {
    "collapsed": true
   },
   "source": [
    "## Load the data\n",
    "<ul>\n",
    "<li>use glob to read multiple files for all bird observations 2001 to 2016 for the USA\n",
    "<li>read csv files with chunksize used to limit the amount of RAM used up.\n",
    "</ul>"
   ]
  },
  {
   "cell_type": "code",
   "execution_count": 89,
   "metadata": {
    "collapsed": true
   },
   "outputs": [
    {
     "name": "stderr",
     "output_type": "stream",
     "text": [
      "C:\\Users\\Wayne\\Anaconda3\\lib\\site-packages\\IPython\\core\\interactiveshell.py:2717: DtypeWarning: Columns (18,849) have mixed types. Specify dtype option on import or set low_memory=False.\n",
      "  interactivity=interactivity, compiler=compiler, result=result)\n",
      "C:\\Users\\Wayne\\Anaconda3\\lib\\site-packages\\IPython\\core\\interactiveshell.py:2717: DtypeWarning: Columns (13,18,849) have mixed types. Specify dtype option on import or set low_memory=False.\n",
      "  interactivity=interactivity, compiler=compiler, result=result)\n"
     ]
    },
    {
     "name": "stdout",
     "output_type": "stream",
     "text": [
      "ERD2016SS\\2002\\checklists.csv has been imported.  Chunks:  5  Shape:  (12994, 20)\n",
      "ERD2016SS\\2003\\checklists.csv has been imported.  Chunks:  1  Shape:  (60405, 20)\n",
      "ERD2016SS\\2004\\checklists.csv has been imported.  Chunks:  1  Shape:  (67771, 20)\n",
      "ERD2016SS\\2005\\checklists.csv has been imported.  Chunks:  1  Shape:  (81581, 20)\n",
      "ERD2016SS\\2006\\checklists.csv has been imported.  Chunks:  2  Shape:  (31601, 20)\n",
      "ERD2016SS\\2007\\checklists.csv has been imported.  Chunks:  2  Shape:  (91411, 20)\n",
      "ERD2016SS\\2008\\checklists.csv has been imported.  Chunks:  3  Shape:  (61967, 20)\n",
      "ERD2016SS\\2009\\checklists.csv has been imported.  Chunks:  5  Shape:  (34597, 20)\n",
      "ERD2016SS\\2010\\checklists.csv has been imported.  Chunks:  7  Shape:  (61010, 20)\n"
     ]
    },
    {
     "name": "stderr",
     "output_type": "stream",
     "text": [
      "C:\\Users\\Wayne\\Anaconda3\\lib\\site-packages\\IPython\\core\\interactiveshell.py:2717: DtypeWarning: Columns (849) have mixed types. Specify dtype option on import or set low_memory=False.\n",
      "  interactivity=interactivity, compiler=compiler, result=result)\n"
     ]
    },
    {
     "name": "stdout",
     "output_type": "stream",
     "text": [
      "ERD2016SS\\2011\\checklists.csv has been imported.  Chunks:  10  Shape:  (5543, 20)\n",
      "ERD2016SS\\2012\\checklists.csv has been imported.  Chunks:  14  Shape:  (51923, 20)\n",
      "ERD2016SS\\2013\\checklists.csv has been imported.  Chunks:  18  Shape:  (63876, 20)\n",
      "ERD2016SS\\2014\\checklists.csv has been imported.  Chunks:  23  Shape:  (86406, 20)\n",
      "ERD2016SS\\2015\\checklists.csv has been imported.  Chunks:  29  Shape:  (503, 20)\n",
      "ERD2016SS\\2016\\checklists.csv has been imported.  Chunks:  34  Shape:  (17024, 20)\n",
      "Shape of Alphabetic Dataframe:  (62743, 20)\n",
      "Shape of Numeric DataFrame:     (59534, 20)\n",
      "[2 6 1 4 20 18 10 'X' '4' 16 8 5 15 3 12 40 '1' '10' '2' 9 '8' 35 11 58 14\n",
      " 13 '6' 21 7 '5' '3' 25 29 36 30 22 '33' '9' '50' '20' 17 '15' 46 '14'\n",
      " '11' '17' '24' 172 '7' '16' '126' '40' '59' 39 '32' 24 26 45 38 32 28 42\n",
      " 74 34 19 23 47 210 51 48 31 62 66 60 165 63 43 79 37 53 49 41 '30' 27 33\n",
      " 44 52 '12' 64 50 '58' 150 196 55 '25' '53' '86' '76' '62' '35' '55' '43'\n",
      " '41' '52' 70 76 401 59 200 75 54 '200' 101 100 '26' '100' '278' '75' '18'\n",
      " 80 '39' 78 '19' 71 '23' 110 57 '63' '13' 68 56 90 '28' '21' 61 '42' 73 65\n",
      " '56' 81 '37' '36' 103 77 83 67 93 86 '31' 107 '138' 138 69 84 '22' 153\n",
      " 112]\n",
      "[  2   6   1   4  20  18  10  16   8   5  15   3  12  40   9  35  11  58\n",
      "  14  13  21   7  25  29  36  30  22  33  50  17  46  24 172 126  59  39\n",
      "  32  26  45  38  28  42  74  34  19  23  47 210  51  48  31  62  66  60\n",
      " 165  63  43  79  37  53  49  41  27  44  52  64 150 196  55  86  76  70\n",
      " 401 200  75  54 101 100 278  80  78  71 110  57  68  56  90  61  73  65\n",
      "  81 103  77  83  67  93 107 138  69  84 153 112]\n"
     ]
    },
    {
     "name": "stderr",
     "output_type": "stream",
     "text": [
      "C:\\Users\\Wayne\\Anaconda3\\lib\\site-packages\\pandas\\core\\generic.py:2701: SettingWithCopyWarning: \n",
      "A value is trying to be set on a copy of a slice from a DataFrame.\n",
      "Try using .loc[row_indexer,col_indexer] = value instead\n",
      "\n",
      "See the caveats in the documentation: http://pandas.pydata.org/pandas-docs/stable/indexing.html#indexing-view-versus-copy\n",
      "  self[name] = value\n"
     ]
    }
   ],
   "source": [
    "# use glob to handle multiple files\n",
    "\n",
    "filenames = glob.glob('ERD2016SS/*/checklists.csv')\n",
    "#            'ERD2016SS/2003/checklists.csv'\n",
    "\n",
    "dfchunk = pd.DataFrame()\n",
    "chunksize = 10**5\n",
    "for file in filenames:\n",
    "    i = 0\n",
    "    for f in pd.read_csv(file, chunksize=chunksize, usecols=['SAMPLING_EVENT_ID','LOC_ID','LATITUDE','LONGITUDE','YEAR','MONTH','DAY','TIME','COUNTRY','STATE_PROVINCE','COUNTY','COUNT_TYPE','EFFORT_HRS','EFFORT_DISTANCE_KM','EFFORT_AREA_HA','OBSERVER_ID','NUMBER_OBSERVERS','GROUP_ID','PRIMARY_CHECKLIST_FLAG','Charadrius_melodus']):\n",
    "        dfchunk = dfchunk.append(f[f.Charadrius_melodus != 0])\n",
    "        i+=1\n",
    "    print(file + \" has been imported.\", \" Chunks: \", i, \" Shape: \", f.shape)\n",
    "       \n",
    "dfalpha = dfchunk[dfchunk.Charadrius_melodus != '0']\n",
    "dfnum = dfalpha[dfalpha.Charadrius_melodus != 'X']\n",
    "dfnum.Charadrius_melodus = pd.to_numeric(dfnum.Charadrius_melodus) \n",
    "print('Shape of Alphabetic Dataframe: ', dfalpha.shape)\n",
    "print('Shape of Numeric DataFrame:    ', dfnum.shape)\n",
    "print(dfalpha['Charadrius_melodus'].unique())\n",
    "print(dfnum['Charadrius_melodus'].unique())\n"
   ]
  },
  {
   "cell_type": "markdown",
   "metadata": {},
   "source": [
    "### two versions saved to working files, one for presence only and another for numerical counts in case it is neeeded. "
   ]
  },
  {
   "cell_type": "code",
   "execution_count": 90,
   "metadata": {
    "collapsed": false
   },
   "outputs": [],
   "source": [
    "dfnum.to_csv('piping_plover_num.csv')"
   ]
  },
  {
   "cell_type": "code",
   "execution_count": 91,
   "metadata": {
    "collapsed": true
   },
   "outputs": [],
   "source": [
    "dfalpha.to_csv('piping_plover_alpha.csv')"
   ]
  },
  {
   "cell_type": "markdown",
   "metadata": {},
   "source": [
    "### remove duplicated observations done by birders working in groups:"
   ]
  },
  {
   "cell_type": "code",
   "execution_count": 98,
   "metadata": {
    "collapsed": false
   },
   "outputs": [
    {
     "name": "stdout",
     "output_type": "stream",
     "text": [
      "[1]\n",
      "[1]\n",
      "Shape of Alphabetic Dataframe:  (49350, 20)\n",
      "Shape of Numeric DataFrame:     (46489, 20)\n"
     ]
    }
   ],
   "source": [
    "\n",
    "\n",
    "#dfalpha = dfalpha[dfalpha.PRIMARY_CHECKLIST_FLAG != '?']\n",
    "print(dfalpha.PRIMARY_CHECKLIST_FLAG.unique())\n",
    "#dfnum = dfnum[dfnum.PRIMARY_CHECKLIST_FLAG != '?']\n",
    "print(dfnum.PRIMARY_CHECKLIST_FLAG.unique())\n",
    "print('Shape of Alphabetic Dataframe: ', dfalpha.shape)\n",
    "print('Shape of Numeric DataFrame:    ', dfnum.shape)\n",
    "dfalpha.PRIMARY_CHECKLIST_FLAG = pd.to_numeric(dfalpha.PRIMARY_CHECKLIST_FLAG)\n",
    "dfnum.PRIMARY_CHECKLIST_FLAG = pd.to_numeric(dfnum.PRIMARY_CHECKLIST_FLAG)"
   ]
  },
  {
   "cell_type": "code",
   "execution_count": 99,
   "metadata": {
    "collapsed": true
   },
   "outputs": [],
   "source": [
    "dfnum.to_csv('piping_plover_num.csv')\n",
    "dfalpha.to_csv('piping_plover_alpha.csv')"
   ]
  },
  {
   "cell_type": "markdown",
   "metadata": {},
   "source": [
    "### verify that sampling IDs are unique values"
   ]
  },
  {
   "cell_type": "code",
   "execution_count": 113,
   "metadata": {
    "collapsed": false
   },
   "outputs": [
    {
     "name": "stdout",
     "output_type": "stream",
     "text": [
      "duplicate keys:  0\n"
     ]
    }
   ],
   "source": [
    "# check that sampling event IDs are all unique\n",
    "temp = pd.DataFrame()\n",
    "temp['is_duplicated'] = dfalpha.duplicated('SAMPLING_EVENT_ID')\n",
    "print('duplicate keys: ', temp['is_duplicated'].sum())\n",
    "\n"
   ]
  },
  {
   "cell_type": "markdown",
   "metadata": {},
   "source": [
    "### check for duplicate sample id records in the covariates files. "
   ]
  },
  {
   "cell_type": "code",
   "execution_count": 134,
   "metadata": {
    "collapsed": true
   },
   "outputs": [
    {
     "name": "stdout",
     "output_type": "stream",
     "text": [
      "ERD2016SS\\2002\\extended-covariates.csv has been read. Shape:  (412994, 92)\n",
      "duplicate keys:  0\n",
      "ERD2016SS\\2003\\extended-covariates.csv has been read. Shape:  (60405, 92)\n",
      "duplicate keys:  0\n",
      "ERD2016SS\\2004\\extended-covariates.csv has been read. Shape:  (67771, 92)\n",
      "duplicate keys:  0\n",
      "ERD2016SS\\2005\\extended-covariates.csv has been read. Shape:  (81581, 92)\n",
      "duplicate keys:  0\n",
      "ERD2016SS\\2006\\extended-covariates.csv has been read. Shape:  (131601, 92)\n",
      "duplicate keys:  0\n",
      "ERD2016SS\\2007\\extended-covariates.csv has been read. Shape:  (191411, 92)\n",
      "duplicate keys:  0\n",
      "ERD2016SS\\2008\\extended-covariates.csv has been read. Shape:  (261967, 92)\n",
      "duplicate keys:  0\n",
      "ERD2016SS\\2009\\extended-covariates.csv has been read. Shape:  (434597, 92)\n",
      "duplicate keys:  0\n",
      "ERD2016SS\\2010\\extended-covariates.csv has been read. Shape:  (661010, 92)\n",
      "duplicate keys:  0\n",
      "ERD2016SS\\2011\\extended-covariates.csv has been read. Shape:  (905543, 92)\n",
      "duplicate keys:  0\n",
      "ERD2016SS\\2012\\extended-covariates.csv has been read. Shape:  (1351923, 92)\n",
      "duplicate keys:  0\n",
      "ERD2016SS\\2013\\extended-covariates.csv has been read. Shape:  (1763876, 92)\n",
      "duplicate keys:  0\n",
      "ERD2016SS\\2014\\extended-covariates.csv has been read. Shape:  (2286406, 92)\n",
      "duplicate keys:  0\n",
      "ERD2016SS\\2015\\extended-covariates.csv has been read. Shape:  (2800503, 92)\n",
      "duplicate keys:  0\n",
      "ERD2016SS\\2016\\extended-covariates.csv has been read. Shape:  (3317024, 92)\n",
      "duplicate keys:  0\n"
     ]
    }
   ],
   "source": [
    "\n",
    "#filenames =  glob.glob('ERD2016SS/reference/2016/extended-covariates-sample.csv') # test file only\n",
    "filenames = glob.glob('ERD2016SS/*/extended-covariates.csv')\n",
    "\n",
    "temp = pd.DataFrame()\n",
    "dfcov = pd.DataFrame()\n",
    "for file in filenames:\n",
    "    dfcov = pd.read_csv(file)\n",
    "    temp['is_duplicated'] = dfcov.duplicated('SAMPLING_EVENT_ID')\n",
    "    print(file + \" has been read.\", \"Shape: \", dfcov.shape)\n",
    "    print('duplicate keys: ', temp['is_duplicated'].sum())"
   ]
  },
  {
   "cell_type": "markdown",
   "metadata": {},
   "source": [
    "### read covariates files using glob and chunksize, saving them to one file. "
   ]
  },
  {
   "cell_type": "code",
   "execution_count": 2,
   "metadata": {
    "collapsed": true
   },
   "outputs": [
    {
     "name": "stdout",
     "output_type": "stream",
     "text": [
      "../Datasets/xcovariates.csv\n",
      "../ERD2016SS\\2002\\extended-covariates.csv has been imported.  Chunks:  42\n",
      "../ERD2016SS\\2003\\extended-covariates.csv has been imported.  Chunks:  7\n",
      "../ERD2016SS\\2004\\extended-covariates.csv has been imported.  Chunks:  7\n",
      "../ERD2016SS\\2005\\extended-covariates.csv has been imported.  Chunks:  9\n",
      "../ERD2016SS\\2006\\extended-covariates.csv has been imported.  Chunks:  14\n",
      "../ERD2016SS\\2007\\extended-covariates.csv has been imported.  Chunks:  20\n",
      "../ERD2016SS\\2008\\extended-covariates.csv has been imported.  Chunks:  27\n",
      "../ERD2016SS\\2009\\extended-covariates.csv has been imported.  Chunks:  44\n",
      "../ERD2016SS\\2010\\extended-covariates.csv has been imported.  Chunks:  67\n",
      "../ERD2016SS\\2011\\extended-covariates.csv has been imported.  Chunks:  91\n",
      "../ERD2016SS\\2012\\extended-covariates.csv has been imported.  Chunks:  136\n",
      "../ERD2016SS\\2013\\extended-covariates.csv has been imported.  Chunks:  177\n",
      "../ERD2016SS\\2014\\extended-covariates.csv has been imported.  Chunks:  229\n",
      "../ERD2016SS\\2015\\extended-covariates.csv has been imported.  Chunks:  281\n",
      "../ERD2016SS\\2016\\extended-covariates.csv has been imported.  Chunks:  332\n",
      "done\n"
     ]
    }
   ],
   "source": [
    "filenames = glob.glob('../ERD2016SS/*/extended-covariates.csv')\n",
    "output = \"../Datasets/xcovariates.csv\"\n",
    "print(output)\n",
    "chunk = pd.DataFrame()\n",
    "chunksize = 10**4\n",
    "with open(output, 'a') as outfile:\n",
    "        \n",
    "    for file in filenames:\n",
    "        i = 0\n",
    "        for chunk in pd.read_csv(file, chunksize=chunksize):\n",
    "            chunk.to_csv(outfile)\n",
    "            i+=1\n",
    "        print(file + \" has been imported.\", \" Chunks: \", i)\n",
    "    \n",
    "print(\"done\")"
   ]
  },
  {
   "cell_type": "markdown",
   "metadata": {},
   "source": [
    "## DATA DICTIONARIES"
   ]
  },
  {
   "cell_type": "raw",
   "metadata": {
    "collapsed": false
   },
   "source": [
    "\n",
    "\n",
    "<b>Checklist File:</b>\n",
    "\n",
    "SAMPLING_EVENT_ID: string (unique key)\n",
    "LOC_ID: string.\n",
    "LATITUDE: continuous.\n",
    "LONGITUDE: continuous.\n",
    "YEAR: continuous.\n",
    "MONTH: 01,02,03,04,05,06,07,08,09,10,11,12.\n",
    "DAY: continuous.\n",
    "TIME: continuous.\n",
    "COUNTRY: string.\n",
    "STATE_PROVINCE: string.\n",
    "COUNTY: string.\n",
    "COUNT_TYPE: P21,P22,P23,P34,P35,P39,P40,P41,P45,46,P47,P48,P49,P50,P51,P58,P59,P60,P61,P62,P63,P64,P65,P66,P69.\n",
    "EFFORT_HRS: continuous.\n",
    "EFFORT_DISTANCE_KM: continuous.\n",
    "EFFORT_AREA_HA: continuous.\n",
    "OBSERVER_ID: string.\n",
    "NUMBER_OBSERVERS: continuous.\n",
    "GROUP_ID: string.\n",
    "PRIMARY_CHECKLIST_FLAG: string. 1 (other rows were dropped)\n",
    "Charadrius_melodus: numeric survey count or 'X' for presence\n",
    "\n",
    "\n",
    "<b>Covariate File:</b>\n",
    "\n",
    "SAMPLING_EVENT_ID: string (unique key)\n",
    "EASTNESS: continuous.\n",
    "LOC_ID: string.\n",
    "MODISWATER_FS_C0_1500_ED: continuous.\n",
    "MODISWATER_FS_C0_1500_LPI: continuous.\n",
    "MODISWATER_FS_C0_1500_PD: continuous.\n",
    "MODISWATER_FS_C0_1500_PLAND: continuous.\n",
    "MODISWATER_FS_C1_1500_ED: continuous.\n",
    "MODISWATER_FS_C1_1500_LPI: continuous.\n",
    "MODISWATER_FS_C1_1500_PD: continuous.\n",
    "MODISWATER_FS_C1_1500_PLAND: continuous.\n",
    "MODISWATER_FS_C2_1500_ED: continuous.\n",
    "MODISWATER_FS_C2_1500_LPI: continuous.\n",
    "MODISWATER_FS_C2_1500_PD: continuous.\n",
    "MODISWATER_FS_C2_1500_PLAND: continuous.\n",
    "MODISWATER_FS_C3_1500_ED: continuous.\n",
    "MODISWATER_FS_C3_1500_LPI: continuous.\n",
    "MODISWATER_FS_C3_1500_PD: continuous.\n",
    "MODISWATER_FS_C3_1500_PLAND: continuous.\n",
    "MODISWATER_FS_C5_1500_ED: continuous.\n",
    "MODISWATER_FS_C5_1500_LPI: continuous.\n",
    "MODISWATER_FS_C5_1500_PD: continuous.\n",
    "MODISWATER_FS_C5_1500_PLAND: continuous.\n",
    "MODISWATER_FS_C6_1500_ED: continuous.\n",
    "MODISWATER_FS_C6_1500_LPI: continuous.\n",
    "MODISWATER_FS_C6_1500_PD: continuous.\n",
    "MODISWATER_FS_C6_1500_PLAND: continuous.\n",
    "MODISWATER_FS_C7_1500_ED: continuous.\n",
    "MODISWATER_FS_C7_1500_LPI: continuous.\n",
    "MODISWATER_FS_C7_1500_PD: continuous.\n",
    "MODISWATER_FS_C7_1500_PLAND: continuous.\n",
    "NORTHNESS: continuous.\n",
    "UMD_FS_C0_1500_ED: continuous.\n",
    "UMD_FS_C0_1500_LPI: continuous.\n",
    "UMD_FS_C0_1500_PD: continuous.\n",
    "UMD_FS_C0_1500_PLAND: continuous.\n",
    "UMD_FS_C1_1500_ED: continuous.\n",
    "UMD_FS_C1_1500_LPI: continuous.\n",
    "UMD_FS_C1_1500_PD: continuous.\n",
    "UMD_FS_C1_1500_PLAND: continuous.\n",
    "UMD_FS_C10_1500_ED: continuous.\n",
    "UMD_FS_C10_1500_LPI: continuous.\n",
    "UMD_FS_C10_1500_PD: continuous.\n",
    "UMD_FS_C10_1500_PLAND: continuous.\n",
    "UMD_FS_C12_1500_ED: continuous.\n",
    "UMD_FS_C12_1500_LPI: continuous.\n",
    "UMD_FS_C12_1500_PD: continuous.\n",
    "UMD_FS_C12_1500_PLAND: continuous.\n",
    "UMD_FS_C13_1500_ED: continuous.\n",
    "UMD_FS_C13_1500_LPI: continuous.\n",
    "UMD_FS_C13_1500_PD: continuous.\n",
    "UMD_FS_C13_1500_PLAND: continuous.\n",
    "UMD_FS_C16_1500_ED: continuous.\n",
    "UMD_FS_C16_1500_LPI: continuous.\n",
    "UMD_FS_C16_1500_PD: continuous.\n",
    "UMD_FS_C16_1500_PLAND: continuous.\n",
    "UMD_FS_C2_1500_ED: continuous.\n",
    "UMD_FS_C2_1500_LPI: continuous.\n",
    "UMD_FS_C2_1500_PD: continuous.\n",
    "UMD_FS_C2_1500_PLAND: continuous.\n",
    "UMD_FS_C3_1500_ED: continuous.\n",
    "UMD_FS_C3_1500_LPI: continuous.\n",
    "UMD_FS_C3_1500_PD: continuous.\n",
    "UMD_FS_C3_1500_PLAND: continuous.\n",
    "UMD_FS_C4_1500_ED: continuous.\n",
    "UMD_FS_C4_1500_LPI: continuous.\n",
    "UMD_FS_C4_1500_PD: continuous.\n",
    "UMD_FS_C4_1500_PLAND: continuous.\n",
    "UMD_FS_C5_1500_ED: continuous.\n",
    "UMD_FS_C5_1500_LPI: continuous.\n",
    "UMD_FS_C5_1500_PD: continuous.\n",
    "UMD_FS_C5_1500_PLAND: continuous.\n",
    "UMD_FS_C6_1500_ED: continuous.\n",
    "UMD_FS_C6_1500_LPI: continuous.\n",
    "UMD_FS_C6_1500_PD: continuous.\n",
    "UMD_FS_C6_1500_PLAND: continuous.\n",
    "UMD_FS_C7_1500_ED: continuous.\n",
    "UMD_FS_C7_1500_LPI: continuous.\n",
    "UMD_FS_C7_1500_PD: continuous.\n",
    "UMD_FS_C7_1500_PLAND: continuous.\n",
    "UMD_FS_C8_1500_ED: continuous.\n",
    "UMD_FS_C8_1500_LPI: continuous.\n",
    "UMD_FS_C8_1500_PD: continuous.\n",
    "UMD_FS_C8_1500_PLAND: continuous.\n",
    "UMD_FS_C9_1500_ED: continuous.\n",
    "UMD_FS_C9_1500_LPI: continuous.\n",
    "UMD_FS_C9_1500_PD: continuous.\n",
    "UMD_FS_C9_1500_PLAND: continuous.\n",
    "UMD_LANDCOVER: 0,1,2,3,4,5,6,7,8,9,10,12,13,16.\n",
    "UMD_WATERCOVER: 0,1,2,3,4,5,6,7.\n",
    "YEAR: 2001-2016.\n",
    "\n",
    "\n"
   ]
  },
  {
   "cell_type": "markdown",
   "metadata": {},
   "source": [
    "### Created a heatmap showing Piping Plover observations"
   ]
  },
  {
   "cell_type": "code",
   "execution_count": 10,
   "metadata": {
    "collapsed": false
   },
   "outputs": [
    {
     "data": {
      "text/html": [
       "<div style=\"width:100%;\"><div style=\"position:relative;width:100%;height:0;padding-bottom:60%;\"><iframe src=\"data:text/html;charset=utf-8;base64,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\" style=\"position:absolute;width:100%;height:100%;left:0;top:0;border:none !important;\" allowfullscreen webkitallowfullscreen mozallowfullscreen></iframe></div></div>"
      ],
      "text/plain": [
       "<folium.folium.Map at 0x29561cf8b38>"
      ]
     },
     "execution_count": 10,
     "metadata": {},
     "output_type": "execute_result"
    }
   ],
   "source": [
    "import csv\n",
    "from folium import plugins\n",
    "def is_number(n):\n",
    "    try:\n",
    "        \n",
    "        float(n)   # Type-casting the string to `float`.\n",
    "                   # If string is not a valid `float`, \n",
    "                   # it'll raise `ValueError` exception\n",
    "                \n",
    "    except ValueError:\n",
    "        return False\n",
    "    return True\n",
    "data=[]\n",
    "heatmap = folium.Map()\n",
    "with open('../Datasets/selected_observations.csv','r') as f: \n",
    "    reader = csv.reader(f)\n",
    "    for row in reader:\n",
    "        if is_number(row[4]):\n",
    "            x = float(row[4])\n",
    "            if is_number(row[5]):\n",
    "                y = float(row[5])\n",
    "                data.append([x, y])\n",
    "h = plugins.HeatMap(data)\n",
    "heatmap.add_child(h)\n",
    "f.close()\n",
    "heatmap.save(\"heatmap.html\")\n",
    "heatmap"
   ]
  },
  {
   "cell_type": "markdown",
   "metadata": {},
   "source": [
    "### planned to use SQLite, however decided that it wasn't required at a later stage"
   ]
  },
  {
   "cell_type": "code",
   "execution_count": 5,
   "metadata": {
    "collapsed": false
   },
   "outputs": [
    {
     "name": "stdout",
     "output_type": "stream",
     "text": [
      "Database created and opened succesfully\n"
     ]
    }
   ],
   "source": [
    "import sqlite3\n",
    "conn=sqlite3.connect('pipingplovers.db')\n",
    "print (\"Database created and opened succesfully\")\n"
   ]
  },
  {
   "cell_type": "markdown",
   "metadata": {},
   "source": [
    "### Read files from \"iplover\" source, however decided to focus on Great Lakes area. \"iplover\" covered a different area."
   ]
  },
  {
   "cell_type": "code",
   "execution_count": 36,
   "metadata": {
    "collapsed": true
   },
   "outputs": [
    {
     "data": {
      "text/html": [
       "<div>\n",
       "<table border=\"1\" class=\"dataframe\">\n",
       "  <thead>\n",
       "    <tr style=\"text-align: right;\">\n",
       "      <th></th>\n",
       "      <th>id</th>\n",
       "      <th>clientversion</th>\n",
       "      <th>datetime</th>\n",
       "      <th>latitude</th>\n",
       "      <th>longitude</th>\n",
       "      <th>accuracy</th>\n",
       "      <th>site</th>\n",
       "      <th>setting</th>\n",
       "      <th>vegtype</th>\n",
       "      <th>vegdens</th>\n",
       "      <th>substrate</th>\n",
       "      <th>imagefile</th>\n",
       "      <th>setting_2</th>\n",
       "      <th>vegtype_2</th>\n",
       "      <th>vegdens_2</th>\n",
       "      <th>substrate_2</th>\n",
       "    </tr>\n",
       "  </thead>\n",
       "  <tbody>\n",
       "    <tr>\n",
       "      <th>0</th>\n",
       "      <td>6a99d68c-dcc0-4d82-ad54-afd6c233ad31</td>\n",
       "      <td>2.0-SNAPSHOT</td>\n",
       "      <td>8/15/15 9:58</td>\n",
       "      <td>41.347731</td>\n",
       "      <td>-70.645439</td>\n",
       "      <td>5.0</td>\n",
       "      <td>Cra_R17</td>\n",
       "      <td>beach</td>\n",
       "      <td>none</td>\n",
       "      <td>none</td>\n",
       "      <td>water</td>\n",
       "      <td>6a99d68c-dcc0-4d82-ad54-afd6c233ad31.jpg</td>\n",
       "      <td>Beach</td>\n",
       "      <td>None</td>\n",
       "      <td>None</td>\n",
       "      <td>Water</td>\n",
       "    </tr>\n",
       "    <tr>\n",
       "      <th>1</th>\n",
       "      <td>b7f34b94-98a5-4983-be10-8c65274a012d</td>\n",
       "      <td>2.0-SNAPSHOT</td>\n",
       "      <td>8/15/15 9:55</td>\n",
       "      <td>41.347668</td>\n",
       "      <td>-70.646774</td>\n",
       "      <td>5.0</td>\n",
       "      <td>Cra_R2S</td>\n",
       "      <td>beach</td>\n",
       "      <td>none</td>\n",
       "      <td>none</td>\n",
       "      <td>water</td>\n",
       "      <td>b7f34b94-98a5-4983-be10-8c65274a012d.jpg</td>\n",
       "      <td>Beach</td>\n",
       "      <td>None</td>\n",
       "      <td>None</td>\n",
       "      <td>Water</td>\n",
       "    </tr>\n",
       "    <tr>\n",
       "      <th>2</th>\n",
       "      <td>ef579f57-a105-466d-8f5b-b0ee87508d0a</td>\n",
       "      <td>2.0-SNAPSHOT</td>\n",
       "      <td>8/14/15 16:29</td>\n",
       "      <td>41.422426</td>\n",
       "      <td>-70.705820</td>\n",
       "      <td>5.0</td>\n",
       "      <td>SSG_R2</td>\n",
       "      <td>beach</td>\n",
       "      <td>none</td>\n",
       "      <td>none</td>\n",
       "      <td>water</td>\n",
       "      <td>ef579f57-a105-466d-8f5b-b0ee87508d0a.jpg</td>\n",
       "      <td>Beach</td>\n",
       "      <td>None</td>\n",
       "      <td>None</td>\n",
       "      <td>Water</td>\n",
       "    </tr>\n",
       "    <tr>\n",
       "      <th>3</th>\n",
       "      <td>4e1f32a4-cd86-4dda-97d0-7887ae1d02e0</td>\n",
       "      <td>2.0-SNAPSHOT</td>\n",
       "      <td>8/14/15 16:17</td>\n",
       "      <td>41.426118</td>\n",
       "      <td>-70.703443</td>\n",
       "      <td>5.0</td>\n",
       "      <td>SSG_R6S</td>\n",
       "      <td>dune</td>\n",
       "      <td>forest</td>\n",
       "      <td>dense</td>\n",
       "      <td>unknown</td>\n",
       "      <td>4e1f32a4-cd86-4dda-97d0-7887ae1d02e0.jpg</td>\n",
       "      <td>Dune</td>\n",
       "      <td>Forest</td>\n",
       "      <td>Dense</td>\n",
       "      <td>*</td>\n",
       "    </tr>\n",
       "    <tr>\n",
       "      <th>4</th>\n",
       "      <td>1193fb59-2bf3-4576-9947-8e25b5a96ffd</td>\n",
       "      <td>2.0-SNAPSHOT</td>\n",
       "      <td>8/14/15 14:47</td>\n",
       "      <td>41.831606</td>\n",
       "      <td>-69.947982</td>\n",
       "      <td>5.0</td>\n",
       "      <td>Random_CoGu_8S</td>\n",
       "      <td>swale</td>\n",
       "      <td>none</td>\n",
       "      <td>none</td>\n",
       "      <td>sandy</td>\n",
       "      <td>1193fb59-2bf3-4576-9947-8e25b5a96ffd.jpg</td>\n",
       "      <td>RidgeSwale</td>\n",
       "      <td>None</td>\n",
       "      <td>None</td>\n",
       "      <td>Sand</td>\n",
       "    </tr>\n",
       "  </tbody>\n",
       "</table>\n",
       "</div>"
      ],
      "text/plain": [
       "                                     id clientversion       datetime  \\\n",
       "0  6a99d68c-dcc0-4d82-ad54-afd6c233ad31  2.0-SNAPSHOT   8/15/15 9:58   \n",
       "1  b7f34b94-98a5-4983-be10-8c65274a012d  2.0-SNAPSHOT   8/15/15 9:55   \n",
       "2  ef579f57-a105-466d-8f5b-b0ee87508d0a  2.0-SNAPSHOT  8/14/15 16:29   \n",
       "3  4e1f32a4-cd86-4dda-97d0-7887ae1d02e0  2.0-SNAPSHOT  8/14/15 16:17   \n",
       "4  1193fb59-2bf3-4576-9947-8e25b5a96ffd  2.0-SNAPSHOT  8/14/15 14:47   \n",
       "\n",
       "    latitude  longitude  accuracy            site setting vegtype vegdens  \\\n",
       "0  41.347731 -70.645439       5.0         Cra_R17   beach    none    none   \n",
       "1  41.347668 -70.646774       5.0         Cra_R2S   beach    none    none   \n",
       "2  41.422426 -70.705820       5.0          SSG_R2   beach    none    none   \n",
       "3  41.426118 -70.703443       5.0         SSG_R6S    dune  forest   dense   \n",
       "4  41.831606 -69.947982       5.0  Random_CoGu_8S   swale    none    none   \n",
       "\n",
       "  substrate                                 imagefile   setting_2 vegtype_2  \\\n",
       "0     water  6a99d68c-dcc0-4d82-ad54-afd6c233ad31.jpg       Beach      None   \n",
       "1     water  b7f34b94-98a5-4983-be10-8c65274a012d.jpg       Beach      None   \n",
       "2     water  ef579f57-a105-466d-8f5b-b0ee87508d0a.jpg       Beach      None   \n",
       "3   unknown  4e1f32a4-cd86-4dda-97d0-7887ae1d02e0.jpg        Dune    Forest   \n",
       "4     sandy  1193fb59-2bf3-4576-9947-8e25b5a96ffd.jpg  RidgeSwale      None   \n",
       "\n",
       "  vegdens_2 substrate_2  \n",
       "0      None       Water  \n",
       "1      None       Water  \n",
       "2      None       Water  \n",
       "3     Dense           *  \n",
       "4      None        Sand  "
      ]
     },
     "execution_count": 36,
     "metadata": {},
     "output_type": "execute_result"
    }
   ],
   "source": [
    "csvfile = \"Datasets\\iplover_fieldpts_2015_csv\\iplover_fieldpts_2015.csv\"\n",
    "df = pd.read_csv(csvfile)\n",
    "df = df.drop(['collectiongroup','deviceinfo'], axis=1)\n",
    "table_name = \"iplover_fieldpts\"\n",
    "df.to_sql(table_name, conn, if_exists='append', index=False)\n",
    "df.head()"
   ]
  },
  {
   "cell_type": "code",
   "execution_count": 6,
   "metadata": {
    "collapsed": true
   },
   "outputs": [
    {
     "data": {
      "text/html": [
       "<div>\n",
       "<table border=\"1\" class=\"dataframe\">\n",
       "  <thead>\n",
       "    <tr style=\"text-align: right;\">\n",
       "      <th></th>\n",
       "      <th>id</th>\n",
       "      <th>clientversion</th>\n",
       "      <th>datetime</th>\n",
       "      <th>latitude</th>\n",
       "      <th>longitude</th>\n",
       "      <th>accuracy</th>\n",
       "      <th>site</th>\n",
       "      <th>setting</th>\n",
       "      <th>vegtype</th>\n",
       "      <th>vegdens</th>\n",
       "      <th>substrate</th>\n",
       "      <th>imagefile</th>\n",
       "      <th>setting_2</th>\n",
       "      <th>vegtype_2</th>\n",
       "      <th>vegdens_2</th>\n",
       "      <th>substrate_2</th>\n",
       "    </tr>\n",
       "  </thead>\n",
       "  <tbody>\n",
       "    <tr>\n",
       "      <th>0</th>\n",
       "      <td>218</td>\n",
       "      <td>1.2-SNAPSHOT</td>\n",
       "      <td>2014-06-10 11:51</td>\n",
       "      <td>37.165681</td>\n",
       "      <td>-75.847508</td>\n",
       "      <td>5.0</td>\n",
       "      <td>smith island</td>\n",
       "      <td>barrierinterior</td>\n",
       "      <td>shellbed</td>\n",
       "      <td>sparse</td>\n",
       "      <td>sandy</td>\n",
       "      <td>MISSING</td>\n",
       "      <td>BarrierInterior</td>\n",
       "      <td>None</td>\n",
       "      <td>Sparse</td>\n",
       "      <td>ShellGravelCobble</td>\n",
       "    </tr>\n",
       "    <tr>\n",
       "      <th>1</th>\n",
       "      <td>219</td>\n",
       "      <td>1.2-SNAPSHOT</td>\n",
       "      <td>2014-06-10 11:24</td>\n",
       "      <td>37.168905</td>\n",
       "      <td>-75.842584</td>\n",
       "      <td>5.0</td>\n",
       "      <td>smith island</td>\n",
       "      <td>washover</td>\n",
       "      <td>shellbed</td>\n",
       "      <td>sparse</td>\n",
       "      <td>sandy</td>\n",
       "      <td>MISSING</td>\n",
       "      <td>Washover</td>\n",
       "      <td>None</td>\n",
       "      <td>Sparse</td>\n",
       "      <td>ShellGravelCobble</td>\n",
       "    </tr>\n",
       "    <tr>\n",
       "      <th>2</th>\n",
       "      <td>478</td>\n",
       "      <td>1.2-SNAPSHOT</td>\n",
       "      <td>2014-06-25 13:47</td>\n",
       "      <td>40.552922</td>\n",
       "      <td>-73.940334</td>\n",
       "      <td>5.0</td>\n",
       "      <td>nest 151</td>\n",
       "      <td>lowduneforedune</td>\n",
       "      <td>herbaceous</td>\n",
       "      <td>sparse</td>\n",
       "      <td>sandy</td>\n",
       "      <td>hQFds6KpCC7anyo2.jpg</td>\n",
       "      <td>Dune</td>\n",
       "      <td>Herbaceous</td>\n",
       "      <td>Sparse</td>\n",
       "      <td>Sand</td>\n",
       "    </tr>\n",
       "    <tr>\n",
       "      <th>3</th>\n",
       "      <td>221</td>\n",
       "      <td>1.2-SNAPSHOT</td>\n",
       "      <td>2014-06-10 10:55</td>\n",
       "      <td>37.170426</td>\n",
       "      <td>-75.840059</td>\n",
       "      <td>5.0</td>\n",
       "      <td>smith island</td>\n",
       "      <td>washover</td>\n",
       "      <td>shellbed</td>\n",
       "      <td>sparse</td>\n",
       "      <td>sandy</td>\n",
       "      <td>ShpLBvqm6vaiJ1Dd.jpg</td>\n",
       "      <td>Washover</td>\n",
       "      <td>None</td>\n",
       "      <td>Sparse</td>\n",
       "      <td>ShellGravelCobble</td>\n",
       "    </tr>\n",
       "    <tr>\n",
       "      <th>4</th>\n",
       "      <td>222</td>\n",
       "      <td>1.2-SNAPSHOT</td>\n",
       "      <td>2014-06-10 10:46</td>\n",
       "      <td>37.170897</td>\n",
       "      <td>-75.839414</td>\n",
       "      <td>5.0</td>\n",
       "      <td>smith island</td>\n",
       "      <td>washover</td>\n",
       "      <td>shellbed</td>\n",
       "      <td>none</td>\n",
       "      <td>sandy</td>\n",
       "      <td>A0GoE08ii3OdVckc.jpg</td>\n",
       "      <td>Washover</td>\n",
       "      <td>None</td>\n",
       "      <td>None</td>\n",
       "      <td>ShellGravelCobble</td>\n",
       "    </tr>\n",
       "  </tbody>\n",
       "</table>\n",
       "</div>"
      ],
      "text/plain": [
       "    id clientversion          datetime   latitude  longitude  accuracy  \\\n",
       "0  218  1.2-SNAPSHOT  2014-06-10 11:51  37.165681 -75.847508       5.0   \n",
       "1  219  1.2-SNAPSHOT  2014-06-10 11:24  37.168905 -75.842584       5.0   \n",
       "2  478  1.2-SNAPSHOT  2014-06-25 13:47  40.552922 -73.940334       5.0   \n",
       "3  221  1.2-SNAPSHOT  2014-06-10 10:55  37.170426 -75.840059       5.0   \n",
       "4  222  1.2-SNAPSHOT  2014-06-10 10:46  37.170897 -75.839414       5.0   \n",
       "\n",
       "           site          setting     vegtype vegdens substrate  \\\n",
       "0  smith island  barrierinterior    shellbed  sparse     sandy   \n",
       "1  smith island         washover    shellbed  sparse     sandy   \n",
       "2      nest 151  lowduneforedune  herbaceous  sparse     sandy   \n",
       "3  smith island         washover    shellbed  sparse     sandy   \n",
       "4  smith island         washover    shellbed    none     sandy   \n",
       "\n",
       "              imagefile        setting_2   vegtype_2 vegdens_2  \\\n",
       "0               MISSING  BarrierInterior        None    Sparse   \n",
       "1               MISSING         Washover        None    Sparse   \n",
       "2  hQFds6KpCC7anyo2.jpg             Dune  Herbaceous    Sparse   \n",
       "3  ShpLBvqm6vaiJ1Dd.jpg         Washover        None    Sparse   \n",
       "4  A0GoE08ii3OdVckc.jpg         Washover        None      None   \n",
       "\n",
       "         substrate_2  \n",
       "0  ShellGravelCobble  \n",
       "1  ShellGravelCobble  \n",
       "2               Sand  \n",
       "3  ShellGravelCobble  \n",
       "4  ShellGravelCobble  "
      ]
     },
     "execution_count": 6,
     "metadata": {},
     "output_type": "execute_result"
    }
   ],
   "source": [
    "csvfile = \"Datasets\\iplover_fieldpts_2014_csv\\iplover_fieldpts_2014.csv\"\n",
    "df = pd.read_csv(csvfile)\n",
    "table_name = \"iplover_fieldpts\"\n",
    "df.to_sql(table_name, conn, if_exists='append', index=False)\n",
    "df.head()"
   ]
  },
  {
   "cell_type": "markdown",
   "metadata": {},
   "source": [
    "### write files to SQLite (not used later on)"
   ]
  },
  {
   "cell_type": "code",
   "execution_count": 38,
   "metadata": {
    "collapsed": true
   },
   "outputs": [
    {
     "name": "stdout",
     "output_type": "stream",
     "text": [
      "ERD2016SS\\2002\\extended-covariates.csv has been imported.  Chunks:  5  Shape:  (12994, 92)\n",
      "ERD2016SS\\2003\\extended-covariates.csv has been imported.  Chunks:  1  Shape:  (60405, 92)\n",
      "ERD2016SS\\2004\\extended-covariates.csv has been imported.  Chunks:  1  Shape:  (67771, 92)\n",
      "ERD2016SS\\2005\\extended-covariates.csv has been imported.  Chunks:  1  Shape:  (81581, 92)\n",
      "ERD2016SS\\2006\\extended-covariates.csv has been imported.  Chunks:  2  Shape:  (31601, 92)\n",
      "ERD2016SS\\2007\\extended-covariates.csv has been imported.  Chunks:  2  Shape:  (91411, 92)\n",
      "ERD2016SS\\2008\\extended-covariates.csv has been imported.  Chunks:  3  Shape:  (61967, 92)\n",
      "ERD2016SS\\2009\\extended-covariates.csv has been imported.  Chunks:  5  Shape:  (34597, 92)\n",
      "ERD2016SS\\2010\\extended-covariates.csv has been imported.  Chunks:  7  Shape:  (61010, 92)\n",
      "ERD2016SS\\2011\\extended-covariates.csv has been imported.  Chunks:  10  Shape:  (5543, 92)\n",
      "ERD2016SS\\2012\\extended-covariates.csv has been imported.  Chunks:  14  Shape:  (51923, 92)\n",
      "ERD2016SS\\2013\\extended-covariates.csv has been imported.  Chunks:  18  Shape:  (63876, 92)\n",
      "ERD2016SS\\2014\\extended-covariates.csv has been imported.  Chunks:  23  Shape:  (86406, 92)\n",
      "ERD2016SS\\2015\\extended-covariates.csv has been imported.  Chunks:  29  Shape:  (503, 92)\n",
      "ERD2016SS\\2016\\extended-covariates.csv has been imported.  Chunks:  34  Shape:  (17024, 92)\n"
     ]
    }
   ],
   "source": [
    "filenames = glob.glob('ERD2016SS/*/extended-covariates.csv')\n",
    "table_name = \"covariates\" \n",
    "dfchunk = pd.DataFrame()\n",
    "chunksize = 10**5\n",
    "for file in filenames:\n",
    "    i = 0\n",
    "    for chunk in pd.read_csv(file, chunksize=chunksize):\n",
    "        chunk.to_sql(table_name, conn, if_exists='append', index=False)\n",
    "        i+=1\n",
    "    print(file + \" has been imported.\", \" Chunks: \", i, \" Shape: \", chunk.shape)"
   ]
  }
 ],
 "metadata": {
  "anaconda-cloud": {},
  "kernelspec": {
   "display_name": "Python [default]",
   "language": "python",
   "name": "python3"
  },
  "language_info": {
   "codemirror_mode": {
    "name": "ipython",
    "version": 3
   },
   "file_extension": ".py",
   "mimetype": "text/x-python",
   "name": "python",
   "nbconvert_exporter": "python",
   "pygments_lexer": "ipython3",
   "version": "3.5.2"
  }
 },
 "nbformat": 4,
 "nbformat_minor": 1
}
