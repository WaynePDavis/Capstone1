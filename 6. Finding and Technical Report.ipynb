{
 "cells": [
  {
   "cell_type": "markdown",
   "metadata": {},
   "source": [
    "# 6. Findings + Technical Report"
   ]
  },
  {
   "cell_type": "markdown",
   "metadata": {},
   "source": [
    "The data for this project consisted of a relatively small sample size of 446 Piping Plover observations. So, upsampling was done to counter the effect of the data imbalance.  \n",
    "\n",
    "During the EDA stage I found that Piping Plovers were oberved at a median distance of 130m from the lake edge, with an interquartile range of 50m to 147m. They were oberved at a median distance of 334m from wetlands with an interquartile range of  112m to 2610m. Piping Plovers are a beach nesting bird and forage on arthropods along shorelines and wetland boundaries. The findings show that they have a stronger affiliation for lake edges than other wetlands. \n",
    "\n",
    "For the purpose of extracting data, outliers were set at 276m represented by one and half times the interquartile range above the median. I chose to use this method because the distance from shorelines data was skewed. The ArcGIS \"Near\" tool was used to retrieve all bird observations within 276m of shorelines, which included all bird species as well as the target species. The eBird Reference Dataset Version 2016 was used by loading it into ArcGIS and overlaying it with datasets from the Great Lakes Coastal Wetlands Consortium. The latter datasets contained data about wetlands, shoreline classes, shore polygon (lakes), islands, reefs and roads for Canada and USA.\n",
    "\n",
    "ebird - http://www.birds.cornell.edu/Page.aspx?pid=1478#_ga=2.244034949.1421535413.1526883173-1730021448.1526883173\n",
    "\n",
    "Great Lakes Wetlands Consortium - https://www.greatlakeswetlands.org/Home.vbhtml\n",
    "\n",
    "ArcGIS - https://www.arcgis.com/features/index.html\n",
    "\n",
    "\n",
    "I observed inaccuracies between the various layers such as shorelines not matching precisely with the base map. For the future I would like to measure the observed disparities and possibly use remote sensing spectral analysis to identify locations of sandy shoreline habitat.\n",
    "\n",
    "Typically, ecological journal articles use psuedo-absence for analysing species distribution. In this study I used the dataset observations of \"other\" species as a proxy for the absence data. I initially chose to use the logistic regression algorithm to classify presence and absence of Piping Plovers on the landscape using supplied and derived physical features.\n",
    "\n",
    "I expected distance from shorelines and presence of sparcely vegetated sandy shorelines or beach dunes to be correlated with their presence. The logistic regression gave an AUC-ROC score of 84%. The best cooefficients were:\n",
    "\n",
    "<table>\n",
    "<tr><th>-</th><th>abs_coef</th><th>coef</th><th>feature</th></tr>\n",
    "<tr><td>38</td><td> 0.453038</td><td>-0.453038</td><td>WETLANDS_JETTY</td></tr>\n",
    "<tr><td>88</td><td>\t0.412510</td><td>\t-0.412510</td><td>   \tSHORECLASS_1</td></tr>\n",
    "<tr><td>41</td><td>\t0.398145</td><td>\t-0.398145</td><td>   \tWETLANDS_MARINA</td></tr>\n",
    "<tr><td>53</td><td>\t0.334647</td><td>\t0.334647</td><td>    \tWETLANDS_BARRIER_PROTECTED_RIDGE_AND_SWALE_COM...</td></tr>\n",
    "<tr><td>60</td><td>\t0.309408</td><td>\t-0.309408</td><td>   \tWETLANDS_LACUSTRINE_SAND_SPIT_EMBAYMENT</td></tr>\n",
    "<tr><td>37</td><td>\t0.254718</td><td>\t-0.254718</td><td>   \tWETLANDS_DREDGING</td></tr>\n",
    "<tr><td>93</td><td>\t0.245779</td><td>\t0.245779</td><td>    \tSHORECLASS_6</td></tr>\n",
    "<tr><td>44</td><td>\t0.214814</td><td>\t-0.214814</td><td>   \tREEF_BAR</td></tr>\n",
    "<tr><td>72</td><td>\t0.211484</td><td>\t-0.211484</td><td>    \tLANDCOVER_1</td></tr>\n",
    "<tr><td>70</td><td>\t0.198444</td><td>\t-0.198444</td><td>   \tWETLANDS_RIVERINE_OPEN_DROWNED_RIVER_MOUTH</td></tr>\n",
    "</TABLE>\n",
    "\n",
    "\n",
    "This table shows a negative correlation of -0.45 with Wetlands Jettys as the stongest feature. Further investigation is needed to determine whether the presence of Jetty's somehow deters Piping Plovers directly or that it is more circumstantial.\n",
    "\n",
    "The second strongest feature was Shorecalss_1 (-0.41) which refers to artificial shorelines. Marinas are the third strongest and negatively correlated (-0.40). \n",
    "\n",
    "The first positive correlation is with Wetlads Barrier Protected Ridge and Swale (0.33). Shoreclass_6 (0.24) refers to Sand Beach and Landcover_1 (-0.211) refers to Evergreen Needleleaf Forest. \n",
    "\n",
    "The analysis using Decision Tree and Random Forest modelling produced significantly better results. The Decision Tree produced 0.9968 AUC-ROC score using five fold cross validation and 1.0 on the testing dataset. This score seems to good to be true, so I would like run the model against 2017 data once it's available. I will also research for similar habitats across North America to test the model. I would also like to test the existing model for predicting nesting plovers, with and without using the \"276m from the shoreline\" limitation, as nesting habatits are important for their conservation. I didn't attempt to train the models on nesting plovers due to the limited data. \n",
    "\n",
    "The six most important features for the Decision Tree were:\n",
    "\n",
    "<TABLE>\n",
    "<TR><TH>FEATURE</TH></TR>\n",
    "<TR><TD>NORTHNESS (0.167211)</TD></TR><TR><TD>ELEV (0.163077)</TD></TR><TR><TD>ISLAND_DIST (0.138172)</TD></TR><TR><TD>SHORECLASS_DIST (0.078684)</TD></TR><TR><TD>REEF_DIST (0.057526)</TD></TR><TR><TD>ROAD_DIST (0.050821)\n",
    "</TD></TR>\n",
    "</TABLE> \n",
    "NORTHNESS is a value between 1 and -1 and consists of a combination of north or south aspect and slope. This may be related to the prevailing winds or just circumstantial. I would like to research the literature to find out whether any other researchers have noted this. ELEV refers to elevation, and follows that Piping Plovers prefer the habitat between 50m and 150m from the shoreline. ISLAND_DIST refers to distance from islands and REEF_DIST refers to distance from reefs (including sand bars). This may be due to birds being observed on islands and reefs and/or they prefer to be near islands and reefs for refuge - if shorebirds are disturbed they can seek a refuge until the threat passes. SHORECLASS_DIST refers to the distance from the shoreline, which agrees with the findings in the exploratory analysis that 75% of observation are between 50m and 147m from a shoreline.    \n",
    "\n",
    "Random Forest also achieved an AUC-ROC score of 1.0, with only 3 false negatives on the test dataset. The six most important factors were as follows: \n",
    "\n",
    "<TABLE>\n",
    "<TR><TH>FEATURE</TH></TR>\n",
    "<TR><TD>UMD_FS_C0_1500_LPI             (0.080548)</TD></TR>\n",
    "<TR><TD>NORTHNESS                      (0.073461)</TD></TR>\n",
    "<TR><TD>ROAD_DIST                      (0.064015)</TD></TR>\n",
    "<TR><TD>ELEV                           (0.057985)</TD></TR>\n",
    "<TR><TD>ISLAND_DIST                    (0.054663)</TD></TR>\n",
    "<TR><TD>REEF_DIST                      (0.053018)</TD></TR>\n",
    "</TABLE>\n",
    "\n",
    "The strongest feature UMD_FS_C0_1500_LPI stands for \"Largest patch of water in 3000mx3000m\". NORTHNESS was also strong ranking as the second most important. All of the other top Random Forest features were also Decision Tree top features, except for SHORECLASS_DIST which only ranked well for the Decision Tree model. \n",
    "\n",
    "I would like to continue this project by attempting to find a larger dataset and comparing the results with standard statistical approaches that are used by ecologists. I would also attempt other models such as Bayesian Networks and work with ocean shorelines as well.\n"
   ]
  },
  {
   "cell_type": "code",
   "execution_count": null,
   "metadata": {
    "collapsed": true
   },
   "outputs": [],
   "source": []
  }
 ],
 "metadata": {
  "anaconda-cloud": {},
  "kernelspec": {
   "display_name": "Python [default]",
   "language": "python",
   "name": "python3"
  },
  "language_info": {
   "codemirror_mode": {
    "name": "ipython",
    "version": 3
   },
   "file_extension": ".py",
   "mimetype": "text/x-python",
   "name": "python",
   "nbconvert_exporter": "python",
   "pygments_lexer": "ipython3",
   "version": "3.5.5"
  }
 },
 "nbformat": 4,
 "nbformat_minor": 1
}
