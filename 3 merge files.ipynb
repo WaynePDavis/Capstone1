{
 "cells": [
  {
   "cell_type": "markdown",
   "metadata": {},
   "source": [
    "# Merge Files"
   ]
  },
  {
   "cell_type": "markdown",
   "metadata": {},
   "source": [
    "### Import the required packages"
   ]
  },
  {
   "cell_type": "code",
   "execution_count": 1,
   "metadata": {
    "collapsed": false
   },
   "outputs": [
    {
     "name": "stdout",
     "output_type": "stream",
     "text": [
      "imports ok\n"
     ]
    }
   ],
   "source": [
    "import numpy as np\n",
    "import scipy.stats as stats\n",
    "import seaborn as sns\n",
    "import matplotlib.pyplot as plt\n",
    "import pandas as pd\n",
    "sns.set_style('whitegrid')\n",
    "import glob\n",
    "import folium\n",
    "%config InlineBackend.figure_format = 'retina'\n",
    "%matplotlib inline\n",
    "\n",
    "#import dask.dataframe as dd\n",
    "\n",
    " \n",
    "print('imports ok')"
   ]
  },
  {
   "cell_type": "markdown",
   "metadata": {},
   "source": [
    "### prepare to merge the observations presence and absence file with the extended covariates file. \n"
   ]
  },
  {
   "cell_type": "code",
   "execution_count": 119,
   "metadata": {
    "collapsed": true
   },
   "outputs": [],
   "source": [
    "obs = '../GIS_Datasets/observations_all.csv'\n",
    "cov = '../Datasets/xcovariates.csv'\n",
    "out = '../Datasets/joined_*.csv'\n"
   ]
  },
  {
   "cell_type": "markdown",
   "metadata": {},
   "source": [
    "### compare number of records of presence and absence, dropping duplicates "
   ]
  },
  {
   "cell_type": "code",
   "execution_count": 145,
   "metadata": {
    "collapsed": false
   },
   "outputs": [
    {
     "name": "stdout",
     "output_type": "stream",
     "text": [
      "../GIS_Datasets/observations_all.csv read\n",
      "(530, 36)\n",
      "(249902, 36)\n",
      "(530, 36)\n",
      "(130812, 36)\n"
     ]
    },
    {
     "name": "stderr",
     "output_type": "stream",
     "text": [
      "C:\\Users\\Wayne\\Anaconda3\\lib\\site-packages\\IPython\\core\\interactiveshell.py:2717: DtypeWarning: Columns (21,22) have mixed types. Specify dtype option on import or set low_memory=False.\n",
      "  interactivity=interactivity, compiler=compiler, result=result)\n"
     ]
    }
   ],
   "source": [
    "df1 = pd.read_csv(obs)\n",
    "print(obs + \" read\")\n",
    "pr = df1.loc[(df1.Charadrius != '0') & (df1.Charadrius != 0)]\n",
    "print(pr.shape)\n",
    "print(df1.shape)\n",
    "df1 = df1.drop_duplicates(subset=\"SAMPLING_E\", keep=False)      # drop duplicates\n",
    "pr = df1.loc[(df1.Charadrius != '0') & (df1.Charadrius != 0)]\n",
    "print(pr.shape)\n",
    "print(df1.shape)"
   ]
  },
  {
   "cell_type": "markdown",
   "metadata": {},
   "source": [
    "### ArcGIS \"Near\" tool was used to derive additional features which were added to the file:\n",
    "<ul>\n",
    "<li>Wetlands ID and Distance\n",
    "<li>Shoreline class ID and Distance\n",
    "<li>Road ID and Distance, (USA and Canada)\n",
    "<li>Island ID and Distance\n",
    "<li>Lake polygon (NEAR_) ID and Distance\n",
    "<ul>"
   ]
  },
  {
   "cell_type": "code",
   "execution_count": 146,
   "metadata": {
    "collapsed": false
   },
   "outputs": [
    {
     "data": {
      "text/html": [
       "<div>\n",
       "<table border=\"1\" class=\"dataframe\">\n",
       "  <thead>\n",
       "    <tr style=\"text-align: right;\">\n",
       "      <th></th>\n",
       "      <th>OBJECTID</th>\n",
       "      <th>FID_</th>\n",
       "      <th>Field1</th>\n",
       "      <th>SAMPLING_E</th>\n",
       "      <th>LOC_ID</th>\n",
       "      <th>LATITUDE</th>\n",
       "      <th>LONGITUDE</th>\n",
       "      <th>YEAR</th>\n",
       "      <th>MONTH</th>\n",
       "      <th>DAY</th>\n",
       "      <th>...</th>\n",
       "      <th>WETLANDS_DIST</th>\n",
       "      <th>SHORECLASS_ID</th>\n",
       "      <th>SHORECLASS_DIST</th>\n",
       "      <th>ROAD_ID</th>\n",
       "      <th>ROAD_DIST</th>\n",
       "      <th>ROAD_STATE</th>\n",
       "      <th>ISLAND_ID</th>\n",
       "      <th>ISLAND_DIST</th>\n",
       "      <th>NEAR_FID</th>\n",
       "      <th>NEAR_DIST</th>\n",
       "    </tr>\n",
       "  </thead>\n",
       "  <tbody>\n",
       "    <tr>\n",
       "      <th>0</th>\n",
       "      <td>1</td>\n",
       "      <td>12</td>\n",
       "      <td>105</td>\n",
       "      <td>S27941860</td>\n",
       "      <td>L285222</td>\n",
       "      <td>43.659986</td>\n",
       "      <td>-79.309355</td>\n",
       "      <td>1921</td>\n",
       "      <td>9</td>\n",
       "      <td>248</td>\n",
       "      <td>...</td>\n",
       "      <td>4574.314558</td>\n",
       "      <td>17523</td>\n",
       "      <td>6.165561</td>\n",
       "      <td>294761</td>\n",
       "      <td>221.236837</td>\n",
       "      <td>GLB_ON_roads_albers</td>\n",
       "      <td>15942</td>\n",
       "      <td>1550.860035</td>\n",
       "      <td>4</td>\n",
       "      <td>191.920543</td>\n",
       "    </tr>\n",
       "    <tr>\n",
       "      <th>1</th>\n",
       "      <td>2</td>\n",
       "      <td>13</td>\n",
       "      <td>106</td>\n",
       "      <td>S27941937</td>\n",
       "      <td>L285222</td>\n",
       "      <td>43.659986</td>\n",
       "      <td>-79.309355</td>\n",
       "      <td>1921</td>\n",
       "      <td>8</td>\n",
       "      <td>243</td>\n",
       "      <td>...</td>\n",
       "      <td>4574.314558</td>\n",
       "      <td>17523</td>\n",
       "      <td>6.165561</td>\n",
       "      <td>294761</td>\n",
       "      <td>221.236837</td>\n",
       "      <td>GLB_ON_roads_albers</td>\n",
       "      <td>15942</td>\n",
       "      <td>1550.860035</td>\n",
       "      <td>4</td>\n",
       "      <td>191.920543</td>\n",
       "    </tr>\n",
       "    <tr>\n",
       "      <th>2</th>\n",
       "      <td>3</td>\n",
       "      <td>19</td>\n",
       "      <td>112</td>\n",
       "      <td>S28028957</td>\n",
       "      <td>L285222</td>\n",
       "      <td>43.659986</td>\n",
       "      <td>-79.309355</td>\n",
       "      <td>1921</td>\n",
       "      <td>8</td>\n",
       "      <td>233</td>\n",
       "      <td>...</td>\n",
       "      <td>4574.314558</td>\n",
       "      <td>17523</td>\n",
       "      <td>6.165561</td>\n",
       "      <td>294761</td>\n",
       "      <td>221.236837</td>\n",
       "      <td>GLB_ON_roads_albers</td>\n",
       "      <td>15942</td>\n",
       "      <td>1550.860035</td>\n",
       "      <td>4</td>\n",
       "      <td>191.920543</td>\n",
       "    </tr>\n",
       "    <tr>\n",
       "      <th>3</th>\n",
       "      <td>4</td>\n",
       "      <td>20</td>\n",
       "      <td>113</td>\n",
       "      <td>S28030509</td>\n",
       "      <td>L285222</td>\n",
       "      <td>43.659986</td>\n",
       "      <td>-79.309355</td>\n",
       "      <td>1921</td>\n",
       "      <td>9</td>\n",
       "      <td>267</td>\n",
       "      <td>...</td>\n",
       "      <td>4574.314558</td>\n",
       "      <td>17523</td>\n",
       "      <td>6.165561</td>\n",
       "      <td>294761</td>\n",
       "      <td>221.236837</td>\n",
       "      <td>GLB_ON_roads_albers</td>\n",
       "      <td>15942</td>\n",
       "      <td>1550.860035</td>\n",
       "      <td>4</td>\n",
       "      <td>191.920543</td>\n",
       "    </tr>\n",
       "    <tr>\n",
       "      <th>4</th>\n",
       "      <td>5</td>\n",
       "      <td>42</td>\n",
       "      <td>135</td>\n",
       "      <td>S29904854</td>\n",
       "      <td>L285222</td>\n",
       "      <td>43.659986</td>\n",
       "      <td>-79.309355</td>\n",
       "      <td>1922</td>\n",
       "      <td>5</td>\n",
       "      <td>144</td>\n",
       "      <td>...</td>\n",
       "      <td>4574.314558</td>\n",
       "      <td>17523</td>\n",
       "      <td>6.165561</td>\n",
       "      <td>294761</td>\n",
       "      <td>221.236837</td>\n",
       "      <td>GLB_ON_roads_albers</td>\n",
       "      <td>15942</td>\n",
       "      <td>1550.860035</td>\n",
       "      <td>4</td>\n",
       "      <td>191.920543</td>\n",
       "    </tr>\n",
       "  </tbody>\n",
       "</table>\n",
       "<p>5 rows × 36 columns</p>\n",
       "</div>"
      ],
      "text/plain": [
       "   OBJECTID  FID_  Field1 SAMPLING_E   LOC_ID   LATITUDE  LONGITUDE  YEAR  \\\n",
       "0         1    12     105  S27941860  L285222  43.659986 -79.309355  1921   \n",
       "1         2    13     106  S27941937  L285222  43.659986 -79.309355  1921   \n",
       "2         3    19     112  S28028957  L285222  43.659986 -79.309355  1921   \n",
       "3         4    20     113  S28030509  L285222  43.659986 -79.309355  1921   \n",
       "4         5    42     135  S29904854  L285222  43.659986 -79.309355  1922   \n",
       "\n",
       "   MONTH  DAY     ...      WETLANDS_DIST SHORECLASS_ID SHORECLASS_DIST  \\\n",
       "0      9  248     ...        4574.314558         17523        6.165561   \n",
       "1      8  243     ...        4574.314558         17523        6.165561   \n",
       "2      8  233     ...        4574.314558         17523        6.165561   \n",
       "3      9  267     ...        4574.314558         17523        6.165561   \n",
       "4      5  144     ...        4574.314558         17523        6.165561   \n",
       "\n",
       "  ROAD_ID   ROAD_DIST           ROAD_STATE  ISLAND_ID  ISLAND_DIST NEAR_FID  \\\n",
       "0  294761  221.236837  GLB_ON_roads_albers      15942  1550.860035        4   \n",
       "1  294761  221.236837  GLB_ON_roads_albers      15942  1550.860035        4   \n",
       "2  294761  221.236837  GLB_ON_roads_albers      15942  1550.860035        4   \n",
       "3  294761  221.236837  GLB_ON_roads_albers      15942  1550.860035        4   \n",
       "4  294761  221.236837  GLB_ON_roads_albers      15942  1550.860035        4   \n",
       "\n",
       "    NEAR_DIST  \n",
       "0  191.920543  \n",
       "1  191.920543  \n",
       "2  191.920543  \n",
       "3  191.920543  \n",
       "4  191.920543  \n",
       "\n",
       "[5 rows x 36 columns]"
      ]
     },
     "execution_count": 146,
     "metadata": {},
     "output_type": "execute_result"
    }
   ],
   "source": [
    "df1.head()\n"
   ]
  },
  {
   "cell_type": "code",
   "execution_count": 147,
   "metadata": {
    "collapsed": false
   },
   "outputs": [
    {
     "data": {
      "text/plain": [
       "Index(['OBJECTID', 'FID_', 'Field1', 'SAMPLING_E', 'LOC_ID', 'LATITUDE',\n",
       "       'LONGITUDE', 'YEAR', 'MONTH', 'DAY', 'TIME', 'COUNTRY', 'STATE_PROV',\n",
       "       'COUNTY', 'COUNT_TYPE', 'EFFORT_HRS', 'EFFORT_DIS', 'EFFORT_ARE',\n",
       "       'OBSERVER_I', 'NUMBER_OBS', 'GROUP_ID', 'PRIMARY_CH', 'Charadrius',\n",
       "       'REEF_ID', 'REEF_DIST', 'WETLANDS_ID', 'WETLANDS_DIST', 'SHORECLASS_ID',\n",
       "       'SHORECLASS_DIST', 'ROAD_ID', 'ROAD_DIST', 'ROAD_STATE', 'ISLAND_ID',\n",
       "       'ISLAND_DIST', 'NEAR_FID', 'NEAR_DIST'],\n",
       "      dtype='object')"
      ]
     },
     "execution_count": 147,
     "metadata": {},
     "output_type": "execute_result"
    }
   ],
   "source": [
    "df1.columns"
   ]
  },
  {
   "cell_type": "markdown",
   "metadata": {},
   "source": [
    "### drop duplicate observations made by birds working in groups"
   ]
  },
  {
   "cell_type": "code",
   "execution_count": 148,
   "metadata": {
    "collapsed": false
   },
   "outputs": [
    {
     "name": "stdout",
     "output_type": "stream",
     "text": [
      "Shape of DataFrame:     (130812, 36)\n",
      "Shape of DataFrame:     (118925, 36)\n",
      "(446, 36)\n"
     ]
    }
   ],
   "source": [
    "# Drop records of duplicate observations made by surveyors working in groups\n",
    "\n",
    "print('Shape of DataFrame:    ', df1.shape)\n",
    "df1 = df1[df1.PRIMARY_CH != '?']\n",
    "print('Shape of DataFrame:    ', df1.shape)\n",
    "pr = df1.loc[(df1.Charadrius != '0') & (df1.Charadrius != 0)]\n",
    "print(pr.shape)\n"
   ]
  },
  {
   "cell_type": "markdown",
   "metadata": {},
   "source": [
    "### drop unrequired columns"
   ]
  },
  {
   "cell_type": "code",
   "execution_count": 149,
   "metadata": {
    "collapsed": true
   },
   "outputs": [
    {
     "name": "stdout",
     "output_type": "stream",
     "text": [
      "(118925, 27)\n"
     ]
    },
    {
     "data": {
      "text/plain": [
       "Index(['OBJECTID', 'SAMPLING_E', 'LOC_ID', 'LATITUDE', 'LONGITUDE', 'YEAR',\n",
       "       'MONTH', 'DAY', 'TIME', 'COUNT_TYPE', 'EFFORT_HRS', 'EFFORT_DIS',\n",
       "       'EFFORT_ARE', 'Charadrius', 'REEF_ID', 'REEF_DIST', 'WETLANDS_ID',\n",
       "       'WETLANDS_DIST', 'SHORECLASS_ID', 'SHORECLASS_DIST', 'ROAD_ID',\n",
       "       'ROAD_DIST', 'ROAD_STATE', 'ISLAND_ID', 'ISLAND_DIST', 'NEAR_FID',\n",
       "       'NEAR_DIST'],\n",
       "      dtype='object')"
      ]
     },
     "execution_count": 149,
     "metadata": {},
     "output_type": "execute_result"
    }
   ],
   "source": [
    "df1.drop(['FID_', 'Field1', 'OBSERVER_I', 'NUMBER_OBS', 'GROUP_ID', 'COUNTRY', 'STATE_PROV','COUNTY', 'PRIMARY_CH'], axis=1, inplace=True)\n",
    "print(df1.shape)\n",
    "df1.columns\n"
   ]
  },
  {
   "cell_type": "markdown",
   "metadata": {},
   "source": [
    "### save to new file"
   ]
  },
  {
   "cell_type": "code",
   "execution_count": 150,
   "metadata": {
    "collapsed": false
   },
   "outputs": [
    {
     "name": "stdout",
     "output_type": "stream",
     "text": [
      "done\n"
     ]
    }
   ],
   "source": [
    "obs_no_dupes = '../Datasets/observations_no_dupes.csv'\n",
    "df1.to_csv(obs_no_dupes, index=False)\n",
    "print(\"done\")"
   ]
  },
  {
   "cell_type": "markdown",
   "metadata": {},
   "source": [
    "### merge the observations with the extended covariates file using chunksize to manage memory usage.\n",
    "### using the covariates file as the driver\n",
    "### inner left join with observations on the left, \n",
    "### using sample ID \n"
   ]
  },
  {
   "cell_type": "code",
   "execution_count": 182,
   "metadata": {
    "collapsed": false
   },
   "outputs": [
    {
     "name": "stdout",
     "output_type": "stream",
     "text": [
      "../Datasets/observations_no_dupes.csv read\n",
      "../Datasets/xcovariates.csv ../Datasets/observations_no_dupes.csv  have been inner merged to  ../Datasets/merged.csv  Chunks:  148\n",
      "done\n"
     ]
    }
   ],
   "source": [
    "output = \"../Datasets/merged.csv\"\n",
    "\n",
    "df1 = pd.read_csv(obs_no_dupes, dtype=object)\n",
    "print(obs_no_dupes + \" read\")\n",
    "\n",
    "chunk = pd.DataFrame()\n",
    "m = pd.DataFrame()\n",
    "chunksize = 10**5\n",
    "with open(output, 'a') as outfile:   # open the output file with append\n",
    "        \n",
    "    i = 0\n",
    "    for chunk in pd.read_csv(cov, dtype=object, chunksize=chunksize):\n",
    "        m = pd.merge(df1, chunk, how='inner', left_on='SAMPLING_E', right_on='SAMPLING_EVENT_ID')\n",
    "        if i == 0:        \n",
    "            m.to_csv(outfile, index=False)\n",
    "        else:\n",
    "            m.to_csv(outfile, header=None, index=False)\n",
    "        i+=1\n",
    "    print(cov, obs_no_dupes, \" have been inner merged to \", output, \" Chunks: \", i)\n",
    "    \n",
    "print(\"done\")"
   ]
  },
  {
   "cell_type": "markdown",
   "metadata": {},
   "source": [
    "### presence data represented by 446 records"
   ]
  },
  {
   "cell_type": "code",
   "execution_count": 183,
   "metadata": {
    "collapsed": false
   },
   "outputs": [
    {
     "name": "stdout",
     "output_type": "stream",
     "text": [
      "../Datasets/merged.csv read\n",
      "presence observations: (446, 120)\n"
     ]
    }
   ],
   "source": [
    "df1 = pd.read_csv(output, dtype=object)\n",
    "print(output + \" read\")\n",
    "df1.shape\n",
    "pr = df1.loc[(df1.Charadrius != '0') & (df1.Charadrius != 0)]\n",
    "print('presence observations:', pr.shape)"
   ]
  },
  {
   "cell_type": "code",
   "execution_count": 184,
   "metadata": {
    "collapsed": true
   },
   "outputs": [
    {
     "data": {
      "text/html": [
       "<div>\n",
       "<table border=\"1\" class=\"dataframe\">\n",
       "  <thead>\n",
       "    <tr style=\"text-align: right;\">\n",
       "      <th></th>\n",
       "      <th>OBJECTID</th>\n",
       "      <th>SAMPLING_E</th>\n",
       "      <th>LOC_ID_x</th>\n",
       "      <th>LATITUDE</th>\n",
       "      <th>LONGITUDE</th>\n",
       "      <th>YEAR_x</th>\n",
       "      <th>MONTH</th>\n",
       "      <th>DAY</th>\n",
       "      <th>TIME</th>\n",
       "      <th>COUNT_TYPE</th>\n",
       "      <th>...</th>\n",
       "      <th>UMD_FS_C8_1500_LPI</th>\n",
       "      <th>UMD_FS_C8_1500_PD</th>\n",
       "      <th>UMD_FS_C8_1500_PLAND</th>\n",
       "      <th>UMD_FS_C9_1500_ED</th>\n",
       "      <th>UMD_FS_C9_1500_LPI</th>\n",
       "      <th>UMD_FS_C9_1500_PD</th>\n",
       "      <th>UMD_FS_C9_1500_PLAND</th>\n",
       "      <th>UMD_LANDCOVER</th>\n",
       "      <th>UMD_WATERCOVER</th>\n",
       "      <th>YEAR_y</th>\n",
       "    </tr>\n",
       "  </thead>\n",
       "  <tbody>\n",
       "    <tr>\n",
       "      <th>118920</th>\n",
       "      <td>130808</td>\n",
       "      <td>S13374172</td>\n",
       "      <td>L193567</td>\n",
       "      <td>43.15751</td>\n",
       "      <td>-87.90179</td>\n",
       "      <td>2013</td>\n",
       "      <td>3</td>\n",
       "      <td>71</td>\n",
       "      <td>8.75</td>\n",
       "      <td>P22</td>\n",
       "      <td>...</td>\n",
       "      <td>0.0476190476190476</td>\n",
       "      <td>1.1091806095652301e-07</td>\n",
       "      <td>4.76190476190476</td>\n",
       "      <td>0.0</td>\n",
       "      <td>0.0</td>\n",
       "      <td>0.0</td>\n",
       "      <td>0.0</td>\n",
       "      <td>13</td>\n",
       "      <td>2</td>\n",
       "      <td>2013</td>\n",
       "    </tr>\n",
       "    <tr>\n",
       "      <th>118921</th>\n",
       "      <td>130809</td>\n",
       "      <td>S13374174</td>\n",
       "      <td>L154628</td>\n",
       "      <td>42.839596</td>\n",
       "      <td>-83.428734</td>\n",
       "      <td>2013</td>\n",
       "      <td>2</td>\n",
       "      <td>55</td>\n",
       "      <td>8.0</td>\n",
       "      <td>P23</td>\n",
       "      <td>...</td>\n",
       "      <td>0.0952380952380952</td>\n",
       "      <td>3.32754182869602e-07</td>\n",
       "      <td>14.285714285714299</td>\n",
       "      <td>0.000205558992535021</td>\n",
       "      <td>0.0238095238095238</td>\n",
       "      <td>1.10918060956534e-07</td>\n",
       "      <td>2.38095238095238</td>\n",
       "      <td>4</td>\n",
       "      <td>1</td>\n",
       "      <td>2013</td>\n",
       "    </tr>\n",
       "    <tr>\n",
       "      <th>118922</th>\n",
       "      <td>130810</td>\n",
       "      <td>S13374176</td>\n",
       "      <td>L167933</td>\n",
       "      <td>45.09999</td>\n",
       "      <td>-87.63070999999998</td>\n",
       "      <td>2013</td>\n",
       "      <td>3</td>\n",
       "      <td>70</td>\n",
       "      <td>14.42</td>\n",
       "      <td>P21</td>\n",
       "      <td>...</td>\n",
       "      <td>0.0</td>\n",
       "      <td>0.0</td>\n",
       "      <td>0.0</td>\n",
       "      <td>0.0</td>\n",
       "      <td>0.0</td>\n",
       "      <td>0.0</td>\n",
       "      <td>0.0</td>\n",
       "      <td>13</td>\n",
       "      <td>1</td>\n",
       "      <td>2013</td>\n",
       "    </tr>\n",
       "    <tr>\n",
       "      <th>118923</th>\n",
       "      <td>130811</td>\n",
       "      <td>S13374185</td>\n",
       "      <td>L2226183</td>\n",
       "      <td>41.7431396</td>\n",
       "      <td>-86.2909985</td>\n",
       "      <td>2013</td>\n",
       "      <td>3</td>\n",
       "      <td>67</td>\n",
       "      <td>7.33</td>\n",
       "      <td>P21</td>\n",
       "      <td>...</td>\n",
       "      <td>0.0408163265306122</td>\n",
       "      <td>1.9014524735404e-07</td>\n",
       "      <td>6.122448979591839</td>\n",
       "      <td>0.000176193422172867</td>\n",
       "      <td>0.0204081632653061</td>\n",
       "      <td>9.50726236770201e-08</td>\n",
       "      <td>2.04081632653061</td>\n",
       "      <td>5</td>\n",
       "      <td>1</td>\n",
       "      <td>2013</td>\n",
       "    </tr>\n",
       "    <tr>\n",
       "      <th>118924</th>\n",
       "      <td>130812</td>\n",
       "      <td>S13374186</td>\n",
       "      <td>L1298077</td>\n",
       "      <td>45.0982759</td>\n",
       "      <td>-87.63154509999998</td>\n",
       "      <td>2013</td>\n",
       "      <td>3</td>\n",
       "      <td>71</td>\n",
       "      <td>7.83</td>\n",
       "      <td>P21</td>\n",
       "      <td>...</td>\n",
       "      <td>0.0</td>\n",
       "      <td>0.0</td>\n",
       "      <td>0.0</td>\n",
       "      <td>0.0</td>\n",
       "      <td>0.0</td>\n",
       "      <td>0.0</td>\n",
       "      <td>0.0</td>\n",
       "      <td>13</td>\n",
       "      <td>1</td>\n",
       "      <td>2013</td>\n",
       "    </tr>\n",
       "  </tbody>\n",
       "</table>\n",
       "<p>5 rows × 120 columns</p>\n",
       "</div>"
      ],
      "text/plain": [
       "       OBJECTID SAMPLING_E  LOC_ID_x    LATITUDE           LONGITUDE YEAR_x  \\\n",
       "118920   130808  S13374172   L193567    43.15751           -87.90179   2013   \n",
       "118921   130809  S13374174   L154628   42.839596          -83.428734   2013   \n",
       "118922   130810  S13374176   L167933    45.09999  -87.63070999999998   2013   \n",
       "118923   130811  S13374185  L2226183  41.7431396         -86.2909985   2013   \n",
       "118924   130812  S13374186  L1298077  45.0982759  -87.63154509999998   2013   \n",
       "\n",
       "       MONTH DAY   TIME COUNT_TYPE  ...    UMD_FS_C8_1500_LPI  \\\n",
       "118920     3  71   8.75        P22  ...    0.0476190476190476   \n",
       "118921     2  55    8.0        P23  ...    0.0952380952380952   \n",
       "118922     3  70  14.42        P21  ...                   0.0   \n",
       "118923     3  67   7.33        P21  ...    0.0408163265306122   \n",
       "118924     3  71   7.83        P21  ...                   0.0   \n",
       "\n",
       "             UMD_FS_C8_1500_PD UMD_FS_C8_1500_PLAND     UMD_FS_C9_1500_ED  \\\n",
       "118920  1.1091806095652301e-07     4.76190476190476                   0.0   \n",
       "118921    3.32754182869602e-07   14.285714285714299  0.000205558992535021   \n",
       "118922                     0.0                  0.0                   0.0   \n",
       "118923     1.9014524735404e-07    6.122448979591839  0.000176193422172867   \n",
       "118924                     0.0                  0.0                   0.0   \n",
       "\n",
       "        UMD_FS_C9_1500_LPI     UMD_FS_C9_1500_PD UMD_FS_C9_1500_PLAND  \\\n",
       "118920                 0.0                   0.0                  0.0   \n",
       "118921  0.0238095238095238  1.10918060956534e-07     2.38095238095238   \n",
       "118922                 0.0                   0.0                  0.0   \n",
       "118923  0.0204081632653061  9.50726236770201e-08     2.04081632653061   \n",
       "118924                 0.0                   0.0                  0.0   \n",
       "\n",
       "       UMD_LANDCOVER UMD_WATERCOVER YEAR_y  \n",
       "118920            13              2   2013  \n",
       "118921             4              1   2013  \n",
       "118922            13              1   2013  \n",
       "118923             5              1   2013  \n",
       "118924            13              1   2013  \n",
       "\n",
       "[5 rows x 120 columns]"
      ]
     },
     "execution_count": 184,
     "metadata": {},
     "output_type": "execute_result"
    }
   ],
   "source": [
    "df1.tail()"
   ]
  },
  {
   "cell_type": "code",
   "execution_count": 154,
   "metadata": {
    "collapsed": true
   },
   "outputs": [
    {
     "name": "stdout",
     "output_type": "stream",
     "text": [
      "(237998, 126)\n",
      "../Datasets/merged.csv read\n",
      "(119519, 126)\n",
      "(237998, 126)\n",
      "Index(['Unnamed: 0', 'Unnamed: 0.1', 'Unnamed: 0.1.1', 'Unnamed: 0.1.1.1',\n",
      "       'Unnamed: 0.1.1.1.1', 'Unnamed: 0.1.1.1.1.1', 'OBJECTID', 'SAMPLING_E',\n",
      "       'LOC_ID_x', 'LATITUDE',\n",
      "       ...\n",
      "       'UMD_FS_C8_1500_LPI', 'UMD_FS_C8_1500_PD', 'UMD_FS_C8_1500_PLAND',\n",
      "       'UMD_FS_C9_1500_ED', 'UMD_FS_C9_1500_LPI', 'UMD_FS_C9_1500_PD',\n",
      "       'UMD_FS_C9_1500_PLAND', 'UMD_LANDCOVER', 'UMD_WATERCOVER', 'YEAR_y'],\n",
      "      dtype='object', length=126)\n"
     ]
    }
   ],
   "source": [
    "print(df1.shape)\n",
    "df1.to_csv(output, index=False)\n",
    "df1 = pd.read_csv(output, dtype=object)\n",
    "print(output + \" read\")\n",
    "pr = df1.loc[(df1.Charadrius != '0') & (df1.Charadrius != 0)]\n",
    "print(pr.shape)\n",
    "\n",
    "print(df1.shape)\n",
    "print(df1.columns)"
   ]
  },
  {
   "cell_type": "markdown",
   "metadata": {},
   "source": [
    "### drop unrequired columns / clean up"
   ]
  },
  {
   "cell_type": "code",
   "execution_count": 155,
   "metadata": {
    "collapsed": false
   },
   "outputs": [
    {
     "name": "stdout",
     "output_type": "stream",
     "text": [
      "(237998, 121)\n"
     ]
    },
    {
     "data": {
      "text/plain": [
       "Index(['Unnamed: 0.1.1.1.1.1', 'OBJECTID', 'SAMPLING_E', 'LOC_ID_x',\n",
       "       'LATITUDE', 'LONGITUDE', 'YEAR_x', 'MONTH', 'DAY', 'TIME',\n",
       "       ...\n",
       "       'UMD_FS_C8_1500_LPI', 'UMD_FS_C8_1500_PD', 'UMD_FS_C8_1500_PLAND',\n",
       "       'UMD_FS_C9_1500_ED', 'UMD_FS_C9_1500_LPI', 'UMD_FS_C9_1500_PD',\n",
       "       'UMD_FS_C9_1500_PLAND', 'UMD_LANDCOVER', 'UMD_WATERCOVER', 'YEAR_y'],\n",
       "      dtype='object', length=121)"
      ]
     },
     "execution_count": 155,
     "metadata": {},
     "output_type": "execute_result"
    }
   ],
   "source": [
    "df1.drop(['Unnamed: 0', 'Unnamed: 0.1', 'Unnamed: 0.1.1', 'Unnamed: 0.1.1.1', 'Unnamed: 0.1.1.1.1', 'Unnamed: 0.1.1.1.1'], axis=1, inplace=True)\n",
    "print(df1.shape)\n",
    "df1.columns"
   ]
  },
  {
   "cell_type": "code",
   "execution_count": 156,
   "metadata": {
    "collapsed": true
   },
   "outputs": [
    {
     "name": "stdout",
     "output_type": "stream",
     "text": [
      "(237998, 120)\n"
     ]
    },
    {
     "data": {
      "text/plain": [
       "Index(['Unnamed: 0.1.1.1.1.1', 'OBJECTID', 'SAMPLING_E', 'LOC_ID_x',\n",
       "       'LATITUDE', 'LONGITUDE', 'YEAR_x', 'MONTH', 'DAY', 'TIME',\n",
       "       ...\n",
       "       'UMD_FS_C8_1500_ED', 'UMD_FS_C8_1500_LPI', 'UMD_FS_C8_1500_PD',\n",
       "       'UMD_FS_C8_1500_PLAND', 'UMD_FS_C9_1500_ED', 'UMD_FS_C9_1500_LPI',\n",
       "       'UMD_FS_C9_1500_PD', 'UMD_FS_C9_1500_PLAND', 'UMD_LANDCOVER',\n",
       "       'UMD_WATERCOVER'],\n",
       "      dtype='object', length=120)"
      ]
     },
     "execution_count": 156,
     "metadata": {},
     "output_type": "execute_result"
    }
   ],
   "source": [
    "df1.drop(['YEAR_y'], axis=1, inplace=True)\n",
    "print(df1.shape)\n",
    "df1.columns"
   ]
  },
  {
   "cell_type": "markdown",
   "metadata": {
    "collapsed": false
   },
   "source": [
    "### merge current working file on the left with islands dataset using island ID and object ID\n",
    "### using chunksize, dropping the ID field from the islands file"
   ]
  },
  {
   "cell_type": "code",
   "execution_count": 42,
   "metadata": {
    "collapsed": false
   },
   "outputs": [
    {
     "name": "stdout",
     "output_type": "stream",
     "text": [
      "../Datasets/merged.csv ../GIS_Datasets/islands.csv  have been inner merged to  ../Datasets/merged1.csv  Chunks:  2\n",
      "done\n"
     ]
    }
   ],
   "source": [
    "infile = \"../Datasets/merged.csv\"\n",
    "islands = \"../GIS_Datasets/islands.csv\"\n",
    "output = \"../Datasets/merged1.csv\"\n",
    "\n",
    "df2 = pd.read_csv(islands, dtype=object)\n",
    "\n",
    "chunk = pd.DataFrame()\n",
    "m = pd.DataFrame()\n",
    "chunksize = 10**5\n",
    "\n",
    "with open(output, 'a') as outfile:  # open new merging file with append\n",
    "        \n",
    "    i = 0\n",
    "    for chunk in pd.read_csv(infile, dtype=object, chunksize=chunksize):\n",
    "        m = pd.merge(chunk, df2, how='left', left_on='ISLAND_ID', right_on='OBJECTID_1', suffixes=['_X','_ISLANDS']).drop('OBJECTID_1', axis=1)\n",
    "        if i == 0:        \n",
    "            m.to_csv(outfile, index=False)\n",
    "        else:\n",
    "            m.to_csv(outfile, header=None, index=False)  # skip headers after the first read\n",
    "        i+=1\n",
    "    print(infile, islands, \" have been inner merged to \", output, \" Chunks: \", i)\n",
    "    \n",
    "print(\"done\")\n",
    "\n",
    "\n"
   ]
  },
  {
   "cell_type": "markdown",
   "metadata": {},
   "source": [
    "### Shape_Length and Shape_Area for islands columns added"
   ]
  },
  {
   "cell_type": "code",
   "execution_count": 43,
   "metadata": {
    "collapsed": false
   },
   "outputs": [
    {
     "data": {
      "text/html": [
       "<div>\n",
       "<table border=\"1\" class=\"dataframe\">\n",
       "  <thead>\n",
       "    <tr style=\"text-align: right;\">\n",
       "      <th></th>\n",
       "      <th>Unnamed: 0</th>\n",
       "      <th>Unnamed: 0.1</th>\n",
       "      <th>Unnamed: 0.1.1</th>\n",
       "      <th>Unnamed: 0.1.1.1</th>\n",
       "      <th>Unnamed: 0.1.1.1.1</th>\n",
       "      <th>Unnamed: 0.1.1.1.1</th>\n",
       "      <th>OBJECTID</th>\n",
       "      <th>SAMPLING_E</th>\n",
       "      <th>LOC_ID_x</th>\n",
       "      <th>LATITUDE</th>\n",
       "      <th>...</th>\n",
       "      <th>UMD_FS_C8_1500_PLAND</th>\n",
       "      <th>UMD_FS_C9_1500_ED</th>\n",
       "      <th>UMD_FS_C9_1500_LPI</th>\n",
       "      <th>UMD_FS_C9_1500_PD</th>\n",
       "      <th>UMD_FS_C9_1500_PLAND</th>\n",
       "      <th>UMD_LANDCOVER</th>\n",
       "      <th>UMD_WATERCOVER</th>\n",
       "      <th>YEAR_y</th>\n",
       "      <th>Shape_Length</th>\n",
       "      <th>Shape_Area</th>\n",
       "    </tr>\n",
       "  </thead>\n",
       "  <tbody>\n",
       "    <tr>\n",
       "      <th>18920</th>\n",
       "      <td>118920</td>\n",
       "      <td>7815</td>\n",
       "      <td>7815</td>\n",
       "      <td>7815</td>\n",
       "      <td>7815</td>\n",
       "      <td>7815</td>\n",
       "      <td>130808</td>\n",
       "      <td>S13374172</td>\n",
       "      <td>L193567</td>\n",
       "      <td>43.157509999999995</td>\n",
       "      <td>...</td>\n",
       "      <td>4.76190476190476</td>\n",
       "      <td>0.0</td>\n",
       "      <td>0.0</td>\n",
       "      <td>0.0</td>\n",
       "      <td>0.0</td>\n",
       "      <td>13</td>\n",
       "      <td>2</td>\n",
       "      <td>2013</td>\n",
       "      <td>390.167215393130900</td>\n",
       "      <td>2998.386179074208900</td>\n",
       "    </tr>\n",
       "    <tr>\n",
       "      <th>18921</th>\n",
       "      <td>118921</td>\n",
       "      <td>7816</td>\n",
       "      <td>7816</td>\n",
       "      <td>7816</td>\n",
       "      <td>7816</td>\n",
       "      <td>7816</td>\n",
       "      <td>130809</td>\n",
       "      <td>S13374174</td>\n",
       "      <td>L154628</td>\n",
       "      <td>42.839596</td>\n",
       "      <td>...</td>\n",
       "      <td>14.285714285714299</td>\n",
       "      <td>0.000205558992535021</td>\n",
       "      <td>0.0238095238095238</td>\n",
       "      <td>1.10918060956534e-07</td>\n",
       "      <td>2.38095238095238</td>\n",
       "      <td>4</td>\n",
       "      <td>1</td>\n",
       "      <td>2013</td>\n",
       "      <td>6341.461034427105900</td>\n",
       "      <td>496933.728748467050000</td>\n",
       "    </tr>\n",
       "    <tr>\n",
       "      <th>18922</th>\n",
       "      <td>118922</td>\n",
       "      <td>7817</td>\n",
       "      <td>7817</td>\n",
       "      <td>7817</td>\n",
       "      <td>7817</td>\n",
       "      <td>7817</td>\n",
       "      <td>130810</td>\n",
       "      <td>S13374176</td>\n",
       "      <td>L167933</td>\n",
       "      <td>45.099990000000005</td>\n",
       "      <td>...</td>\n",
       "      <td>0.0</td>\n",
       "      <td>0.0</td>\n",
       "      <td>0.0</td>\n",
       "      <td>0.0</td>\n",
       "      <td>0.0</td>\n",
       "      <td>13</td>\n",
       "      <td>1</td>\n",
       "      <td>2013</td>\n",
       "      <td>3110.219725172519200</td>\n",
       "      <td>337310.750945429550000</td>\n",
       "    </tr>\n",
       "    <tr>\n",
       "      <th>18923</th>\n",
       "      <td>118923</td>\n",
       "      <td>7821</td>\n",
       "      <td>7821</td>\n",
       "      <td>7821</td>\n",
       "      <td>7821</td>\n",
       "      <td>7821</td>\n",
       "      <td>130811</td>\n",
       "      <td>S13374185</td>\n",
       "      <td>L2226183</td>\n",
       "      <td>41.7431396</td>\n",
       "      <td>...</td>\n",
       "      <td>6.122448979591839</td>\n",
       "      <td>0.000176193422172867</td>\n",
       "      <td>0.0204081632653061</td>\n",
       "      <td>9.50726236770201e-08</td>\n",
       "      <td>2.04081632653061</td>\n",
       "      <td>5</td>\n",
       "      <td>1</td>\n",
       "      <td>2013</td>\n",
       "      <td>114.360583445322520</td>\n",
       "      <td>813.552365732133920</td>\n",
       "    </tr>\n",
       "    <tr>\n",
       "      <th>18924</th>\n",
       "      <td>118924</td>\n",
       "      <td>7822</td>\n",
       "      <td>7822</td>\n",
       "      <td>7822</td>\n",
       "      <td>7822</td>\n",
       "      <td>7822</td>\n",
       "      <td>130812</td>\n",
       "      <td>S13374186</td>\n",
       "      <td>L1298077</td>\n",
       "      <td>45.0982759</td>\n",
       "      <td>...</td>\n",
       "      <td>0.0</td>\n",
       "      <td>0.0</td>\n",
       "      <td>0.0</td>\n",
       "      <td>0.0</td>\n",
       "      <td>0.0</td>\n",
       "      <td>13</td>\n",
       "      <td>1</td>\n",
       "      <td>2013</td>\n",
       "      <td>3110.219725172519200</td>\n",
       "      <td>337310.750945429550000</td>\n",
       "    </tr>\n",
       "  </tbody>\n",
       "</table>\n",
       "<p>5 rows × 128 columns</p>\n",
       "</div>"
      ],
      "text/plain": [
       "      Unnamed: 0 Unnamed: 0.1 Unnamed: 0.1.1 Unnamed: 0.1.1.1  \\\n",
       "18920     118920         7815           7815             7815   \n",
       "18921     118921         7816           7816             7816   \n",
       "18922     118922         7817           7817             7817   \n",
       "18923     118923         7821           7821             7821   \n",
       "18924     118924         7822           7822             7822   \n",
       "\n",
       "      Unnamed: 0.1.1.1.1 Unnamed: 0.1.1.1.1 OBJECTID SAMPLING_E  LOC_ID_x  \\\n",
       "18920               7815               7815   130808  S13374172   L193567   \n",
       "18921               7816               7816   130809  S13374174   L154628   \n",
       "18922               7817               7817   130810  S13374176   L167933   \n",
       "18923               7821               7821   130811  S13374185  L2226183   \n",
       "18924               7822               7822   130812  S13374186  L1298077   \n",
       "\n",
       "                 LATITUDE           ...           UMD_FS_C8_1500_PLAND  \\\n",
       "18920  43.157509999999995           ...               4.76190476190476   \n",
       "18921           42.839596           ...             14.285714285714299   \n",
       "18922  45.099990000000005           ...                            0.0   \n",
       "18923          41.7431396           ...              6.122448979591839   \n",
       "18924          45.0982759           ...                            0.0   \n",
       "\n",
       "          UMD_FS_C9_1500_ED  UMD_FS_C9_1500_LPI     UMD_FS_C9_1500_PD  \\\n",
       "18920                   0.0                 0.0                   0.0   \n",
       "18921  0.000205558992535021  0.0238095238095238  1.10918060956534e-07   \n",
       "18922                   0.0                 0.0                   0.0   \n",
       "18923  0.000176193422172867  0.0204081632653061  9.50726236770201e-08   \n",
       "18924                   0.0                 0.0                   0.0   \n",
       "\n",
       "      UMD_FS_C9_1500_PLAND UMD_LANDCOVER UMD_WATERCOVER YEAR_y  \\\n",
       "18920                  0.0            13              2   2013   \n",
       "18921     2.38095238095238             4              1   2013   \n",
       "18922                  0.0            13              1   2013   \n",
       "18923     2.04081632653061             5              1   2013   \n",
       "18924                  0.0            13              1   2013   \n",
       "\n",
       "               Shape_Length              Shape_Area  \n",
       "18920   390.167215393130900    2998.386179074208900  \n",
       "18921  6341.461034427105900  496933.728748467050000  \n",
       "18922  3110.219725172519200  337310.750945429550000  \n",
       "18923   114.360583445322520     813.552365732133920  \n",
       "18924  3110.219725172519200  337310.750945429550000  \n",
       "\n",
       "[5 rows x 128 columns]"
      ]
     },
     "execution_count": 43,
     "metadata": {},
     "output_type": "execute_result"
    }
   ],
   "source": [
    "m.tail()"
   ]
  },
  {
   "cell_type": "markdown",
   "metadata": {},
   "source": [
    "### prepare to merge reefs file"
   ]
  },
  {
   "cell_type": "code",
   "execution_count": 59,
   "metadata": {
    "collapsed": false
   },
   "outputs": [
    {
     "data": {
      "text/plain": [
       "Index(['OBJECTID', 'Feature_Name', 'GNIS_ID', 'Description', 'County', 'State',\n",
       "       'LAT', 'LONG', 'Elev_ft', 'Map__', 'Entry_Date'],\n",
       "      dtype='object')"
      ]
     },
     "execution_count": 59,
     "metadata": {},
     "output_type": "execute_result"
    }
   ],
   "source": [
    "merging = \"../GIS_Datasets/reefs.csv\"\n",
    "df2 = pd.read_csv(merging, dtype=object)\n",
    "df2.columns\n"
   ]
  },
  {
   "cell_type": "markdown",
   "metadata": {},
   "source": [
    "### drop unrequired fields"
   ]
  },
  {
   "cell_type": "code",
   "execution_count": 60,
   "metadata": {
    "collapsed": false
   },
   "outputs": [
    {
     "name": "stdout",
     "output_type": "stream",
     "text": [
      "(390, 2)\n"
     ]
    },
    {
     "data": {
      "text/plain": [
       "Index(['OBJECTID', 'Description'], dtype='object')"
      ]
     },
     "execution_count": 60,
     "metadata": {},
     "output_type": "execute_result"
    }
   ],
   "source": [
    "\n",
    "df2.drop(['Feature_Name', 'GNIS_ID','County', 'State', 'LAT', 'LONG', 'Elev_ft', 'Map__', 'Entry_Date'], axis=1, inplace=True)\n",
    "print(df1.shape)\n",
    "df2.columns"
   ]
  },
  {
   "cell_type": "markdown",
   "metadata": {},
   "source": [
    "### merge reefs file\n",
    "### reefs Descriptions field now added to the working file"
   ]
  },
  {
   "cell_type": "code",
   "execution_count": 61,
   "metadata": {
    "collapsed": false
   },
   "outputs": [
    {
     "name": "stdout",
     "output_type": "stream",
     "text": [
      "../Datasets/merged1.csv ../GIS_Datasets/reefs.csv  have been inner merged to  ../Datasets/merged2.csv  Chunks:  2\n",
      "done\n"
     ]
    },
    {
     "data": {
      "text/html": [
       "<div>\n",
       "<table border=\"1\" class=\"dataframe\">\n",
       "  <thead>\n",
       "    <tr style=\"text-align: right;\">\n",
       "      <th></th>\n",
       "      <th>Unnamed: 0</th>\n",
       "      <th>Unnamed: 0.1</th>\n",
       "      <th>Unnamed: 0.1.1</th>\n",
       "      <th>Unnamed: 0.1.1.1</th>\n",
       "      <th>Unnamed: 0.1.1.1.1</th>\n",
       "      <th>Unnamed: 0.1.1.1.1.1</th>\n",
       "      <th>OBJECTID_X</th>\n",
       "      <th>SAMPLING_E</th>\n",
       "      <th>LOC_ID_x</th>\n",
       "      <th>LATITUDE</th>\n",
       "      <th>...</th>\n",
       "      <th>UMD_FS_C9_1500_LPI</th>\n",
       "      <th>UMD_FS_C9_1500_PD</th>\n",
       "      <th>UMD_FS_C9_1500_PLAND</th>\n",
       "      <th>UMD_LANDCOVER</th>\n",
       "      <th>UMD_WATERCOVER</th>\n",
       "      <th>YEAR_y</th>\n",
       "      <th>Shape_Length</th>\n",
       "      <th>Shape_Area</th>\n",
       "      <th>OBJECTID_REEF</th>\n",
       "      <th>Description</th>\n",
       "    </tr>\n",
       "  </thead>\n",
       "  <tbody>\n",
       "    <tr>\n",
       "      <th>0</th>\n",
       "      <td>100000</td>\n",
       "      <td>2326</td>\n",
       "      <td>2326</td>\n",
       "      <td>2326</td>\n",
       "      <td>2326</td>\n",
       "      <td>2326</td>\n",
       "      <td>107759</td>\n",
       "      <td>S11688993</td>\n",
       "      <td>L152740</td>\n",
       "      <td>41.7857131</td>\n",
       "      <td>...</td>\n",
       "      <td>0.0</td>\n",
       "      <td>0.0</td>\n",
       "      <td>0.0</td>\n",
       "      <td>13</td>\n",
       "      <td>2</td>\n",
       "      <td>2012</td>\n",
       "      <td>1505.291679900385800</td>\n",
       "      <td>68588.176795336942000</td>\n",
       "      <td>4</td>\n",
       "      <td>Bar</td>\n",
       "    </tr>\n",
       "    <tr>\n",
       "      <th>1</th>\n",
       "      <td>100001</td>\n",
       "      <td>2338</td>\n",
       "      <td>2338</td>\n",
       "      <td>2338</td>\n",
       "      <td>2338</td>\n",
       "      <td>2338</td>\n",
       "      <td>107760</td>\n",
       "      <td>S11689031</td>\n",
       "      <td>L10</td>\n",
       "      <td>43.842946000000005</td>\n",
       "      <td>...</td>\n",
       "      <td>0.0204081632653061</td>\n",
       "      <td>9.50726236771293e-08</td>\n",
       "      <td>2.04081632653061</td>\n",
       "      <td>5</td>\n",
       "      <td>1</td>\n",
       "      <td>2012</td>\n",
       "      <td>44.675717329372361</td>\n",
       "      <td>139.980207802104870</td>\n",
       "      <td>152</td>\n",
       "      <td>Bar</td>\n",
       "    </tr>\n",
       "    <tr>\n",
       "      <th>2</th>\n",
       "      <td>100002</td>\n",
       "      <td>2355</td>\n",
       "      <td>2355</td>\n",
       "      <td>2355</td>\n",
       "      <td>2355</td>\n",
       "      <td>2355</td>\n",
       "      <td>107761</td>\n",
       "      <td>S11689077</td>\n",
       "      <td>L190873</td>\n",
       "      <td>42.4877956</td>\n",
       "      <td>...</td>\n",
       "      <td>0.0238095238095238</td>\n",
       "      <td>1.10918060956651e-07</td>\n",
       "      <td>2.38095238095238</td>\n",
       "      <td>8</td>\n",
       "      <td>2</td>\n",
       "      <td>2012</td>\n",
       "      <td>81.190402641637760</td>\n",
       "      <td>397.267090523547100</td>\n",
       "      <td>190</td>\n",
       "      <td>Bar</td>\n",
       "    </tr>\n",
       "    <tr>\n",
       "      <th>3</th>\n",
       "      <td>100003</td>\n",
       "      <td>2359</td>\n",
       "      <td>2359</td>\n",
       "      <td>2359</td>\n",
       "      <td>2359</td>\n",
       "      <td>2359</td>\n",
       "      <td>107762</td>\n",
       "      <td>S11689082</td>\n",
       "      <td>L351831</td>\n",
       "      <td>41.7960139</td>\n",
       "      <td>...</td>\n",
       "      <td>0.0</td>\n",
       "      <td>0.0</td>\n",
       "      <td>0.0</td>\n",
       "      <td>0</td>\n",
       "      <td>3</td>\n",
       "      <td>2012</td>\n",
       "      <td>102.433292408201380</td>\n",
       "      <td>705.406916452271840</td>\n",
       "      <td>5</td>\n",
       "      <td>Bar</td>\n",
       "    </tr>\n",
       "    <tr>\n",
       "      <th>4</th>\n",
       "      <td>100004</td>\n",
       "      <td>2364</td>\n",
       "      <td>2364</td>\n",
       "      <td>2364</td>\n",
       "      <td>2364</td>\n",
       "      <td>2364</td>\n",
       "      <td>107763</td>\n",
       "      <td>S11689089</td>\n",
       "      <td>L207765</td>\n",
       "      <td>42.846250899999994</td>\n",
       "      <td>...</td>\n",
       "      <td>0.0238095238095238</td>\n",
       "      <td>1.10918060956651e-07</td>\n",
       "      <td>2.38095238095238</td>\n",
       "      <td>1</td>\n",
       "      <td>3</td>\n",
       "      <td>2012</td>\n",
       "      <td>6585.027973825160200</td>\n",
       "      <td>669922.803974343460000</td>\n",
       "      <td>114</td>\n",
       "      <td>Bar</td>\n",
       "    </tr>\n",
       "  </tbody>\n",
       "</table>\n",
       "<p>5 rows × 130 columns</p>\n",
       "</div>"
      ],
      "text/plain": [
       "  Unnamed: 0 Unnamed: 0.1 Unnamed: 0.1.1 Unnamed: 0.1.1.1 Unnamed: 0.1.1.1.1  \\\n",
       "0     100000         2326           2326             2326               2326   \n",
       "1     100001         2338           2338             2338               2338   \n",
       "2     100002         2355           2355             2355               2355   \n",
       "3     100003         2359           2359             2359               2359   \n",
       "4     100004         2364           2364             2364               2364   \n",
       "\n",
       "  Unnamed: 0.1.1.1.1.1 OBJECTID_X SAMPLING_E LOC_ID_x            LATITUDE  \\\n",
       "0                 2326     107759  S11688993  L152740          41.7857131   \n",
       "1                 2338     107760  S11689031      L10  43.842946000000005   \n",
       "2                 2355     107761  S11689077  L190873          42.4877956   \n",
       "3                 2359     107762  S11689082  L351831          41.7960139   \n",
       "4                 2364     107763  S11689089  L207765  42.846250899999994   \n",
       "\n",
       "      ...      UMD_FS_C9_1500_LPI     UMD_FS_C9_1500_PD UMD_FS_C9_1500_PLAND  \\\n",
       "0     ...                     0.0                   0.0                  0.0   \n",
       "1     ...      0.0204081632653061  9.50726236771293e-08     2.04081632653061   \n",
       "2     ...      0.0238095238095238  1.10918060956651e-07     2.38095238095238   \n",
       "3     ...                     0.0                   0.0                  0.0   \n",
       "4     ...      0.0238095238095238  1.10918060956651e-07     2.38095238095238   \n",
       "\n",
       "  UMD_LANDCOVER UMD_WATERCOVER YEAR_y          Shape_Length  \\\n",
       "0            13              2   2012  1505.291679900385800   \n",
       "1             5              1   2012    44.675717329372361   \n",
       "2             8              2   2012    81.190402641637760   \n",
       "3             0              3   2012   102.433292408201380   \n",
       "4             1              3   2012  6585.027973825160200   \n",
       "\n",
       "               Shape_Area OBJECTID_REEF Description  \n",
       "0   68588.176795336942000             4         Bar  \n",
       "1     139.980207802104870           152         Bar  \n",
       "2     397.267090523547100           190         Bar  \n",
       "3     705.406916452271840             5         Bar  \n",
       "4  669922.803974343460000           114         Bar  \n",
       "\n",
       "[5 rows x 130 columns]"
      ]
     },
     "execution_count": 61,
     "metadata": {},
     "output_type": "execute_result"
    }
   ],
   "source": [
    "infile = \"../Datasets/merged1.csv\"\n",
    "merging = \"../GIS_Datasets/reefs.csv\"\n",
    "output = \"../Datasets/merged2.csv\"\n",
    "left_to_right = \"REEF_ID\"\n",
    "right_to_left = \"OBJECTID\"\n",
    "suffix = \"_REEF\"\n",
    "\n",
    "\n",
    "m = pd.DataFrame()\n",
    "chunksize = 10**5\n",
    "\n",
    "with open(output, 'a') as outfile:\n",
    "        \n",
    "    i = 0\n",
    "    for chunk in pd.read_csv(infile, dtype=object, chunksize=chunksize):\n",
    "        m = pd.merge(chunk, df2, how='left', left_on=left_to_right, right_on=right_to_left, suffixes=['_X', suffix]).drop(right_to_left, axis=1)\n",
    "        if i == 0:        \n",
    "            m.to_csv(outfile, index=False)\n",
    "        else:\n",
    "            m.to_csv(outfile, header=None, index=False)\n",
    "        i+=1\n",
    "    print(infile, merging, \" have been inner merged to \", output, \" Chunks: \", i)\n",
    "    \n",
    "print(\"done\")\n",
    "m.head()\n"
   ]
  },
  {
   "cell_type": "markdown",
   "metadata": {},
   "source": [
    "### prepare to merge Shoreline Classes file"
   ]
  },
  {
   "cell_type": "code",
   "execution_count": 66,
   "metadata": {
    "collapsed": false
   },
   "outputs": [
    {
     "data": {
      "text/plain": [
       "Index(['OBJECTID_1', 'shoreline_classes', 'GLAHF_simplified_shoreline_classes',\n",
       "       'Shape_Length', 'SHORECLASS', 'LAT_Start', 'LAT_Mid', 'LAT_End',\n",
       "       'LONG_Start', 'LONG_Mid', 'LONG_End'],\n",
       "      dtype='object')"
      ]
     },
     "execution_count": 66,
     "metadata": {},
     "output_type": "execute_result"
    }
   ],
   "source": [
    "merging = \"../GIS_Datasets/shoreline_classes.csv\"\n",
    "df2 = pd.read_csv(merging, dtype=object)\n",
    "df2.columns"
   ]
  },
  {
   "cell_type": "markdown",
   "metadata": {},
   "source": [
    "### drop unrequired fields "
   ]
  },
  {
   "cell_type": "code",
   "execution_count": 67,
   "metadata": {
    "collapsed": false
   },
   "outputs": [
    {
     "name": "stdout",
     "output_type": "stream",
     "text": [
      "(47693, 3)\n"
     ]
    },
    {
     "data": {
      "text/plain": [
       "Index(['OBJECTID_1', 'Shape_Length', 'SHORECLASS'], dtype='object')"
      ]
     },
     "execution_count": 67,
     "metadata": {},
     "output_type": "execute_result"
    }
   ],
   "source": [
    "df2.drop(['shoreline_classes', 'GLAHF_simplified_shoreline_classes', 'LAT_Start', 'LAT_Mid', 'LAT_End',\n",
    "       'LONG_Start', 'LONG_Mid', 'LONG_End'], axis=1, inplace=True)\n",
    "print(df2.shape)\n",
    "df2.columns"
   ]
  },
  {
   "cell_type": "markdown",
   "metadata": {},
   "source": [
    "### merge Shoreline file with the working file\n",
    "### 'Shape_Length_SHORE', 'SHORECLASS' fields added"
   ]
  },
  {
   "cell_type": "code",
   "execution_count": 68,
   "metadata": {
    "collapsed": false
   },
   "outputs": [
    {
     "name": "stdout",
     "output_type": "stream",
     "text": [
      "../Datasets/merged2.csv ../GIS_Datasets/shoreline_classes.csv  have been inner merged to  ../Datasets/merged3.csv  Chunks:  2\n",
      "done\n"
     ]
    },
    {
     "data": {
      "text/html": [
       "<div>\n",
       "<table border=\"1\" class=\"dataframe\">\n",
       "  <thead>\n",
       "    <tr style=\"text-align: right;\">\n",
       "      <th></th>\n",
       "      <th>Unnamed: 0</th>\n",
       "      <th>Unnamed: 0.1</th>\n",
       "      <th>Unnamed: 0.1.1</th>\n",
       "      <th>Unnamed: 0.1.1.1</th>\n",
       "      <th>Unnamed: 0.1.1.1.1</th>\n",
       "      <th>Unnamed: 0.1.1.1.1.1</th>\n",
       "      <th>OBJECTID_X</th>\n",
       "      <th>SAMPLING_E</th>\n",
       "      <th>LOC_ID_x</th>\n",
       "      <th>LATITUDE</th>\n",
       "      <th>...</th>\n",
       "      <th>UMD_FS_C9_1500_PLAND</th>\n",
       "      <th>UMD_LANDCOVER</th>\n",
       "      <th>UMD_WATERCOVER</th>\n",
       "      <th>YEAR_y</th>\n",
       "      <th>Shape_Length_X</th>\n",
       "      <th>Shape_Area</th>\n",
       "      <th>OBJECTID_REEF</th>\n",
       "      <th>Description</th>\n",
       "      <th>Shape_Length_SHORE</th>\n",
       "      <th>SHORECLASS</th>\n",
       "    </tr>\n",
       "  </thead>\n",
       "  <tbody>\n",
       "    <tr>\n",
       "      <th>0</th>\n",
       "      <td>100000</td>\n",
       "      <td>2326</td>\n",
       "      <td>2326</td>\n",
       "      <td>2326</td>\n",
       "      <td>2326</td>\n",
       "      <td>2326</td>\n",
       "      <td>107759</td>\n",
       "      <td>S11688993</td>\n",
       "      <td>L152740</td>\n",
       "      <td>41.7857131</td>\n",
       "      <td>...</td>\n",
       "      <td>0.0</td>\n",
       "      <td>13</td>\n",
       "      <td>2</td>\n",
       "      <td>2012</td>\n",
       "      <td>1505.291679900385800</td>\n",
       "      <td>68588.176795336942000</td>\n",
       "      <td>4</td>\n",
       "      <td>Bar</td>\n",
       "      <td>1002.791856499687800</td>\n",
       "      <td>1</td>\n",
       "    </tr>\n",
       "    <tr>\n",
       "      <th>1</th>\n",
       "      <td>100001</td>\n",
       "      <td>2338</td>\n",
       "      <td>2338</td>\n",
       "      <td>2338</td>\n",
       "      <td>2338</td>\n",
       "      <td>2338</td>\n",
       "      <td>107760</td>\n",
       "      <td>S11689031</td>\n",
       "      <td>L10</td>\n",
       "      <td>43.842946000000005</td>\n",
       "      <td>...</td>\n",
       "      <td>2.04081632653061</td>\n",
       "      <td>5</td>\n",
       "      <td>1</td>\n",
       "      <td>2012</td>\n",
       "      <td>44.675717329372361</td>\n",
       "      <td>139.980207802104870</td>\n",
       "      <td>152</td>\n",
       "      <td>Bar</td>\n",
       "      <td>692.491636010253840</td>\n",
       "      <td>2</td>\n",
       "    </tr>\n",
       "    <tr>\n",
       "      <th>2</th>\n",
       "      <td>100002</td>\n",
       "      <td>2355</td>\n",
       "      <td>2355</td>\n",
       "      <td>2355</td>\n",
       "      <td>2355</td>\n",
       "      <td>2355</td>\n",
       "      <td>107761</td>\n",
       "      <td>S11689077</td>\n",
       "      <td>L190873</td>\n",
       "      <td>42.4877956</td>\n",
       "      <td>...</td>\n",
       "      <td>2.38095238095238</td>\n",
       "      <td>8</td>\n",
       "      <td>2</td>\n",
       "      <td>2012</td>\n",
       "      <td>81.190402641637760</td>\n",
       "      <td>397.267090523547100</td>\n",
       "      <td>190</td>\n",
       "      <td>Bar</td>\n",
       "      <td>1002.038074371138000</td>\n",
       "      <td>1</td>\n",
       "    </tr>\n",
       "    <tr>\n",
       "      <th>3</th>\n",
       "      <td>100003</td>\n",
       "      <td>2359</td>\n",
       "      <td>2359</td>\n",
       "      <td>2359</td>\n",
       "      <td>2359</td>\n",
       "      <td>2359</td>\n",
       "      <td>107762</td>\n",
       "      <td>S11689082</td>\n",
       "      <td>L351831</td>\n",
       "      <td>41.7960139</td>\n",
       "      <td>...</td>\n",
       "      <td>0.0</td>\n",
       "      <td>0</td>\n",
       "      <td>3</td>\n",
       "      <td>2012</td>\n",
       "      <td>102.433292408201380</td>\n",
       "      <td>705.406916452271840</td>\n",
       "      <td>5</td>\n",
       "      <td>Bar</td>\n",
       "      <td>1000.327548639702100</td>\n",
       "      <td>1</td>\n",
       "    </tr>\n",
       "    <tr>\n",
       "      <th>4</th>\n",
       "      <td>100004</td>\n",
       "      <td>2364</td>\n",
       "      <td>2364</td>\n",
       "      <td>2364</td>\n",
       "      <td>2364</td>\n",
       "      <td>2364</td>\n",
       "      <td>107763</td>\n",
       "      <td>S11689089</td>\n",
       "      <td>L207765</td>\n",
       "      <td>42.846250899999994</td>\n",
       "      <td>...</td>\n",
       "      <td>2.38095238095238</td>\n",
       "      <td>1</td>\n",
       "      <td>3</td>\n",
       "      <td>2012</td>\n",
       "      <td>6585.027973825160200</td>\n",
       "      <td>669922.803974343460000</td>\n",
       "      <td>114</td>\n",
       "      <td>Bar</td>\n",
       "      <td>7914.590808276670900</td>\n",
       "      <td>1</td>\n",
       "    </tr>\n",
       "  </tbody>\n",
       "</table>\n",
       "<p>5 rows × 132 columns</p>\n",
       "</div>"
      ],
      "text/plain": [
       "  Unnamed: 0 Unnamed: 0.1 Unnamed: 0.1.1 Unnamed: 0.1.1.1 Unnamed: 0.1.1.1.1  \\\n",
       "0     100000         2326           2326             2326               2326   \n",
       "1     100001         2338           2338             2338               2338   \n",
       "2     100002         2355           2355             2355               2355   \n",
       "3     100003         2359           2359             2359               2359   \n",
       "4     100004         2364           2364             2364               2364   \n",
       "\n",
       "  Unnamed: 0.1.1.1.1.1 OBJECTID_X SAMPLING_E LOC_ID_x            LATITUDE  \\\n",
       "0                 2326     107759  S11688993  L152740          41.7857131   \n",
       "1                 2338     107760  S11689031      L10  43.842946000000005   \n",
       "2                 2355     107761  S11689077  L190873          42.4877956   \n",
       "3                 2359     107762  S11689082  L351831          41.7960139   \n",
       "4                 2364     107763  S11689089  L207765  42.846250899999994   \n",
       "\n",
       "     ...     UMD_FS_C9_1500_PLAND UMD_LANDCOVER UMD_WATERCOVER YEAR_y  \\\n",
       "0    ...                      0.0            13              2   2012   \n",
       "1    ...         2.04081632653061             5              1   2012   \n",
       "2    ...         2.38095238095238             8              2   2012   \n",
       "3    ...                      0.0             0              3   2012   \n",
       "4    ...         2.38095238095238             1              3   2012   \n",
       "\n",
       "         Shape_Length_X              Shape_Area OBJECTID_REEF Description  \\\n",
       "0  1505.291679900385800   68588.176795336942000             4         Bar   \n",
       "1    44.675717329372361     139.980207802104870           152         Bar   \n",
       "2    81.190402641637760     397.267090523547100           190         Bar   \n",
       "3   102.433292408201380     705.406916452271840             5         Bar   \n",
       "4  6585.027973825160200  669922.803974343460000           114         Bar   \n",
       "\n",
       "     Shape_Length_SHORE SHORECLASS  \n",
       "0  1002.791856499687800          1  \n",
       "1   692.491636010253840          2  \n",
       "2  1002.038074371138000          1  \n",
       "3  1000.327548639702100          1  \n",
       "4  7914.590808276670900          1  \n",
       "\n",
       "[5 rows x 132 columns]"
      ]
     },
     "execution_count": 68,
     "metadata": {},
     "output_type": "execute_result"
    }
   ],
   "source": [
    "infile = \"../Datasets/merged2.csv\"\n",
    "# merging = \"../GIS_Datasets/reefs.csv\"\n",
    "output = \"../Datasets/merged3.csv\"\n",
    "left_to_right = \"SHORECLASS_ID\"\n",
    "right_to_left = \"OBJECTID_1\"\n",
    "suffix = \"_SHORE\"\n",
    "\n",
    "# df2 = pd.read_csv(merging, dtype=object)\n",
    "\n",
    "m = pd.DataFrame()\n",
    "chunksize = 10**5\n",
    "\n",
    "with open(output, 'a') as outfile:\n",
    "        \n",
    "    i = 0\n",
    "    for chunk in pd.read_csv(infile, dtype=object, chunksize=chunksize):\n",
    "        m = pd.merge(chunk, df2, how='left', left_on=left_to_right, right_on=right_to_left, suffixes=['_X', suffix]).drop(right_to_left, axis=1)\n",
    "        if i == 0:        \n",
    "            m.to_csv(outfile, index=False)\n",
    "        else:\n",
    "            m.to_csv(outfile, header=None, index=False)\n",
    "        i+=1\n",
    "    print(infile, merging, \" have been inner merged to \", output, \" Chunks: \", i)\n",
    "    \n",
    "print(\"done\")\n",
    "m.head()\n"
   ]
  },
  {
   "cell_type": "markdown",
   "metadata": {},
   "source": [
    "### prepare to merge the Lakes polygon file"
   ]
  },
  {
   "cell_type": "code",
   "execution_count": 69,
   "metadata": {
    "collapsed": false
   },
   "outputs": [
    {
     "data": {
      "text/plain": [
       "Index(['OBJECTID_1', 'GNIS_Name', 'AreaSqKm', 'Shape_Length', 'Shape_Area'], dtype='object')"
      ]
     },
     "execution_count": 69,
     "metadata": {},
     "output_type": "execute_result"
    }
   ],
   "source": [
    "merging = \"../GIS_Datasets/lakes.csv\"\n",
    "df2 = pd.read_csv(merging, dtype=object)\n",
    "df2.columns"
   ]
  },
  {
   "cell_type": "code",
   "execution_count": 70,
   "metadata": {
    "collapsed": false
   },
   "outputs": [
    {
     "name": "stdout",
     "output_type": "stream",
     "text": [
      "(5, 2)\n"
     ]
    },
    {
     "data": {
      "text/plain": [
       "Index(['OBJECTID_1', 'GNIS_Name'], dtype='object')"
      ]
     },
     "execution_count": 70,
     "metadata": {},
     "output_type": "execute_result"
    }
   ],
   "source": [
    "df2.drop(['AreaSqKm', 'Shape_Length', 'Shape_Area'], axis=1, inplace=True)\n",
    "print(df2.shape)\n",
    "df2.columns"
   ]
  },
  {
   "cell_type": "markdown",
   "metadata": {},
   "source": [
    "### merge Lakes file with the working file"
   ]
  },
  {
   "cell_type": "code",
   "execution_count": 72,
   "metadata": {
    "collapsed": false
   },
   "outputs": [
    {
     "name": "stdout",
     "output_type": "stream",
     "text": [
      "../Datasets/merged3.csv ../GIS_Datasets/lakes.csv  have been inner merged to  ../Datasets/merged4.csv  Chunks:  2\n",
      "done\n"
     ]
    },
    {
     "data": {
      "text/html": [
       "<div>\n",
       "<table border=\"1\" class=\"dataframe\">\n",
       "  <thead>\n",
       "    <tr style=\"text-align: right;\">\n",
       "      <th></th>\n",
       "      <th>Unnamed: 0</th>\n",
       "      <th>Unnamed: 0.1</th>\n",
       "      <th>Unnamed: 0.1.1</th>\n",
       "      <th>Unnamed: 0.1.1.1</th>\n",
       "      <th>Unnamed: 0.1.1.1.1</th>\n",
       "      <th>Unnamed: 0.1.1.1.1.1</th>\n",
       "      <th>OBJECTID_X</th>\n",
       "      <th>SAMPLING_E</th>\n",
       "      <th>LOC_ID_x</th>\n",
       "      <th>LATITUDE</th>\n",
       "      <th>...</th>\n",
       "      <th>UMD_LANDCOVER</th>\n",
       "      <th>UMD_WATERCOVER</th>\n",
       "      <th>YEAR_y</th>\n",
       "      <th>Shape_Length_X</th>\n",
       "      <th>Shape_Area</th>\n",
       "      <th>OBJECTID_REEF</th>\n",
       "      <th>Description</th>\n",
       "      <th>Shape_Length_SHORE</th>\n",
       "      <th>SHORECLASS</th>\n",
       "      <th>GNIS_Name</th>\n",
       "    </tr>\n",
       "  </thead>\n",
       "  <tbody>\n",
       "    <tr>\n",
       "      <th>18920</th>\n",
       "      <td>118920</td>\n",
       "      <td>7815</td>\n",
       "      <td>7815</td>\n",
       "      <td>7815</td>\n",
       "      <td>7815</td>\n",
       "      <td>7815</td>\n",
       "      <td>130808</td>\n",
       "      <td>S13374172</td>\n",
       "      <td>L193567</td>\n",
       "      <td>43.157509999999995</td>\n",
       "      <td>...</td>\n",
       "      <td>13</td>\n",
       "      <td>2</td>\n",
       "      <td>2013</td>\n",
       "      <td>390.167215393130900</td>\n",
       "      <td>2998.386179074208900</td>\n",
       "      <td>227</td>\n",
       "      <td></td>\n",
       "      <td>1003.435338280289000</td>\n",
       "      <td>6</td>\n",
       "      <td>Lake Michigan</td>\n",
       "    </tr>\n",
       "    <tr>\n",
       "      <th>18921</th>\n",
       "      <td>118921</td>\n",
       "      <td>7816</td>\n",
       "      <td>7816</td>\n",
       "      <td>7816</td>\n",
       "      <td>7816</td>\n",
       "      <td>7816</td>\n",
       "      <td>130809</td>\n",
       "      <td>S13374174</td>\n",
       "      <td>L154628</td>\n",
       "      <td>42.839596</td>\n",
       "      <td>...</td>\n",
       "      <td>4</td>\n",
       "      <td>1</td>\n",
       "      <td>2013</td>\n",
       "      <td>6341.461034427105900</td>\n",
       "      <td>496933.728748467050000</td>\n",
       "      <td>79</td>\n",
       "      <td>Bar</td>\n",
       "      <td>1938.728787684923400</td>\n",
       "      <td>1</td>\n",
       "      <td>Lake Erie</td>\n",
       "    </tr>\n",
       "    <tr>\n",
       "      <th>18922</th>\n",
       "      <td>118922</td>\n",
       "      <td>7817</td>\n",
       "      <td>7817</td>\n",
       "      <td>7817</td>\n",
       "      <td>7817</td>\n",
       "      <td>7817</td>\n",
       "      <td>130810</td>\n",
       "      <td>S13374176</td>\n",
       "      <td>L167933</td>\n",
       "      <td>45.099990000000005</td>\n",
       "      <td>...</td>\n",
       "      <td>13</td>\n",
       "      <td>1</td>\n",
       "      <td>2013</td>\n",
       "      <td>3110.219725172519200</td>\n",
       "      <td>337310.750945429550000</td>\n",
       "      <td>203</td>\n",
       "      <td>Bar</td>\n",
       "      <td>1000.431228862307400</td>\n",
       "      <td>1</td>\n",
       "      <td>Lake Michigan</td>\n",
       "    </tr>\n",
       "    <tr>\n",
       "      <th>18923</th>\n",
       "      <td>118923</td>\n",
       "      <td>7821</td>\n",
       "      <td>7821</td>\n",
       "      <td>7821</td>\n",
       "      <td>7821</td>\n",
       "      <td>7821</td>\n",
       "      <td>130811</td>\n",
       "      <td>S13374185</td>\n",
       "      <td>L2226183</td>\n",
       "      <td>41.7431396</td>\n",
       "      <td>...</td>\n",
       "      <td>5</td>\n",
       "      <td>1</td>\n",
       "      <td>2013</td>\n",
       "      <td>114.360583445322520</td>\n",
       "      <td>813.552365732133920</td>\n",
       "      <td>8</td>\n",
       "      <td>Bar</td>\n",
       "      <td>1003.179913007360800</td>\n",
       "      <td>6</td>\n",
       "      <td>Lake Michigan</td>\n",
       "    </tr>\n",
       "    <tr>\n",
       "      <th>18924</th>\n",
       "      <td>118924</td>\n",
       "      <td>7822</td>\n",
       "      <td>7822</td>\n",
       "      <td>7822</td>\n",
       "      <td>7822</td>\n",
       "      <td>7822</td>\n",
       "      <td>130812</td>\n",
       "      <td>S13374186</td>\n",
       "      <td>L1298077</td>\n",
       "      <td>45.0982759</td>\n",
       "      <td>...</td>\n",
       "      <td>13</td>\n",
       "      <td>1</td>\n",
       "      <td>2013</td>\n",
       "      <td>3110.219725172519200</td>\n",
       "      <td>337310.750945429550000</td>\n",
       "      <td>203</td>\n",
       "      <td>Bar</td>\n",
       "      <td>1000.538460187597500</td>\n",
       "      <td>1</td>\n",
       "      <td>Lake Michigan</td>\n",
       "    </tr>\n",
       "  </tbody>\n",
       "</table>\n",
       "<p>5 rows × 133 columns</p>\n",
       "</div>"
      ],
      "text/plain": [
       "      Unnamed: 0 Unnamed: 0.1 Unnamed: 0.1.1 Unnamed: 0.1.1.1  \\\n",
       "18920     118920         7815           7815             7815   \n",
       "18921     118921         7816           7816             7816   \n",
       "18922     118922         7817           7817             7817   \n",
       "18923     118923         7821           7821             7821   \n",
       "18924     118924         7822           7822             7822   \n",
       "\n",
       "      Unnamed: 0.1.1.1.1 Unnamed: 0.1.1.1.1.1 OBJECTID_X SAMPLING_E  LOC_ID_x  \\\n",
       "18920               7815                 7815     130808  S13374172   L193567   \n",
       "18921               7816                 7816     130809  S13374174   L154628   \n",
       "18922               7817                 7817     130810  S13374176   L167933   \n",
       "18923               7821                 7821     130811  S13374185  L2226183   \n",
       "18924               7822                 7822     130812  S13374186  L1298077   \n",
       "\n",
       "                 LATITUDE      ...       UMD_LANDCOVER UMD_WATERCOVER YEAR_y  \\\n",
       "18920  43.157509999999995      ...                  13              2   2013   \n",
       "18921           42.839596      ...                   4              1   2013   \n",
       "18922  45.099990000000005      ...                  13              1   2013   \n",
       "18923          41.7431396      ...                   5              1   2013   \n",
       "18924          45.0982759      ...                  13              1   2013   \n",
       "\n",
       "             Shape_Length_X              Shape_Area OBJECTID_REEF Description  \\\n",
       "18920   390.167215393130900    2998.386179074208900           227               \n",
       "18921  6341.461034427105900  496933.728748467050000            79         Bar   \n",
       "18922  3110.219725172519200  337310.750945429550000           203         Bar   \n",
       "18923   114.360583445322520     813.552365732133920             8         Bar   \n",
       "18924  3110.219725172519200  337310.750945429550000           203         Bar   \n",
       "\n",
       "         Shape_Length_SHORE SHORECLASS      GNIS_Name  \n",
       "18920  1003.435338280289000          6  Lake Michigan  \n",
       "18921  1938.728787684923400          1      Lake Erie  \n",
       "18922  1000.431228862307400          1  Lake Michigan  \n",
       "18923  1003.179913007360800          6  Lake Michigan  \n",
       "18924  1000.538460187597500          1  Lake Michigan  \n",
       "\n",
       "[5 rows x 133 columns]"
      ]
     },
     "execution_count": 72,
     "metadata": {},
     "output_type": "execute_result"
    }
   ],
   "source": [
    "infile = \"../Datasets/merged3.csv\"\n",
    "merging = \"../GIS_Datasets/lakes.csv\"\n",
    "output = \"../Datasets/merged4.csv\"\n",
    "left_to_right = \"NEAR_FID\"\n",
    "right_to_left = \"OBJECTID_1\"\n",
    "suffix = \"_LAKE\"\n",
    "\n",
    "# df2 = pd.read_csv(merging, dtype=object)\n",
    "\n",
    "chunk = pd.DataFrame()\n",
    "m = pd.DataFrame()\n",
    "chunksize = 10**5\n",
    "\n",
    "with open(output, 'a') as outfile:\n",
    "        \n",
    "    i = 0\n",
    "    for chunk in pd.read_csv(infile, dtype=object, chunksize=chunksize):\n",
    "        m = pd.merge(chunk, df2, how='left', left_on=left_to_right, right_on=right_to_left, suffixes=['_X', suffix]).drop(right_to_left, axis=1)\n",
    "        if i == 0:        \n",
    "            m.to_csv(outfile, index=False)\n",
    "        else:\n",
    "            m.to_csv(outfile, header=None, index=False)\n",
    "        i+=1\n",
    "    print(infile, merging, \" have been inner merged to \", output, \" Chunks: \", i)\n",
    "    \n",
    "print(\"done\")\n",
    "m.tail()"
   ]
  },
  {
   "cell_type": "markdown",
   "metadata": {},
   "source": [
    "### merging the wetlands files with the working file"
   ]
  },
  {
   "cell_type": "code",
   "execution_count": 76,
   "metadata": {
    "collapsed": false
   },
   "outputs": [
    {
     "data": {
      "text/plain": [
       "Index(['OBJECTID_1', 'OBJECTID', 'AREA', 'PERIMETER', 'GLCWC_CWI_',\n",
       "       'GLCWC_CWI1', 'USGS_QUAD', 'WETLAND_NA', 'COMMENTS', 'X_CENTROID',\n",
       "       'Y_CENTROID', 'HECTARES', 'NWI', 'WWI', 'OWI', 'HWI', 'LOWI', 'H_NUM',\n",
       "       'DITCH_CONS', 'DYKES', 'DAMS', 'DREDGING', 'JETTY', 'ROAD_CONST',\n",
       "       'FILLED', 'MARINA', 'WASTE_SEWA', 'GEO_ID', 'COUNTRY', 'OTHER',\n",
       "       'LK_BASIN', 'HGM_CLS1', 'HGM_CLS2', 'Shape_Leng', 'HGMCLS1_S',\n",
       "       'Shape_Length', 'Shape_Area'],\n",
       "      dtype='object')"
      ]
     },
     "execution_count": 76,
     "metadata": {},
     "output_type": "execute_result"
    }
   ],
   "source": [
    "merging = \"../GIS_Datasets/wetlands.csv\"\n",
    "df2 = pd.read_csv(merging, dtype=object)\n",
    "df2.columns\n",
    "       "
   ]
  },
  {
   "cell_type": "markdown",
   "metadata": {},
   "source": [
    "### Drop unrequired fields leaving:\n",
    "'AREA', 'PERIMETER', 'NWI', 'WWI', 'OWI', 'HWI', 'LOWI',\n",
    "       'H_NUM', 'DITCH_CONS', 'DYKES', 'DAMS', 'DREDGING', 'JETTY',\n",
    "       'ROAD_CONST', 'FILLED', 'MARINA', 'WASTE_SEWA', 'HGM_CLS1'"
   ]
  },
  {
   "cell_type": "code",
   "execution_count": 77,
   "metadata": {
    "collapsed": false
   },
   "outputs": [
    {
     "name": "stdout",
     "output_type": "stream",
     "text": [
      "(8151, 19)\n"
     ]
    },
    {
     "data": {
      "text/plain": [
       "Index(['OBJECTID_1', 'AREA', 'PERIMETER', 'NWI', 'WWI', 'OWI', 'HWI', 'LOWI',\n",
       "       'H_NUM', 'DITCH_CONS', 'DYKES', 'DAMS', 'DREDGING', 'JETTY',\n",
       "       'ROAD_CONST', 'FILLED', 'MARINA', 'WASTE_SEWA', 'HGM_CLS1'],\n",
       "      dtype='object')"
      ]
     },
     "execution_count": 77,
     "metadata": {},
     "output_type": "execute_result"
    }
   ],
   "source": [
    "df2.drop(['OBJECTID', 'GLCWC_CWI_', 'GLCWC_CWI1', 'USGS_QUAD', 'WETLAND_NA', 'COMMENTS', 'X_CENTROID',\n",
    "       'Y_CENTROID', 'HECTARES', 'GEO_ID', 'COUNTRY', 'OTHER', 'LK_BASIN', 'Shape_Leng', 'HGMCLS1_S',\n",
    "       'Shape_Length', 'Shape_Area', 'HGM_CLS2'], axis=1, inplace=True)\n",
    "print(df2.shape)\n",
    "df2.columns"
   ]
  },
  {
   "cell_type": "code",
   "execution_count": 78,
   "metadata": {
    "collapsed": false
   },
   "outputs": [
    {
     "name": "stdout",
     "output_type": "stream",
     "text": [
      "../Datasets/merged4.csv ../GIS_Datasets/lakes.csv  have been inner merged to  ../Datasets/merged5.csv  Chunks:  2\n",
      "done\n"
     ]
    },
    {
     "data": {
      "text/html": [
       "<div>\n",
       "<table border=\"1\" class=\"dataframe\">\n",
       "  <thead>\n",
       "    <tr style=\"text-align: right;\">\n",
       "      <th></th>\n",
       "      <th>Unnamed: 0</th>\n",
       "      <th>Unnamed: 0.1</th>\n",
       "      <th>Unnamed: 0.1.1</th>\n",
       "      <th>Unnamed: 0.1.1.1</th>\n",
       "      <th>Unnamed: 0.1.1.1.1</th>\n",
       "      <th>Unnamed: 0.1.1.1.1.1</th>\n",
       "      <th>OBJECTID_X</th>\n",
       "      <th>SAMPLING_E</th>\n",
       "      <th>LOC_ID_x</th>\n",
       "      <th>LATITUDE</th>\n",
       "      <th>...</th>\n",
       "      <th>DITCH_CONS</th>\n",
       "      <th>DYKES</th>\n",
       "      <th>DAMS</th>\n",
       "      <th>DREDGING</th>\n",
       "      <th>JETTY</th>\n",
       "      <th>ROAD_CONST</th>\n",
       "      <th>FILLED</th>\n",
       "      <th>MARINA</th>\n",
       "      <th>WASTE_SEWA</th>\n",
       "      <th>HGM_CLS1</th>\n",
       "    </tr>\n",
       "  </thead>\n",
       "  <tbody>\n",
       "    <tr>\n",
       "      <th>18920</th>\n",
       "      <td>118920</td>\n",
       "      <td>7815</td>\n",
       "      <td>7815</td>\n",
       "      <td>7815</td>\n",
       "      <td>7815</td>\n",
       "      <td>7815</td>\n",
       "      <td>130808</td>\n",
       "      <td>S13374172</td>\n",
       "      <td>L193567</td>\n",
       "      <td>43.157509999999995</td>\n",
       "      <td>...</td>\n",
       "      <td>T</td>\n",
       "      <td>F</td>\n",
       "      <td>F</td>\n",
       "      <td>F</td>\n",
       "      <td>F</td>\n",
       "      <td>T</td>\n",
       "      <td>T</td>\n",
       "      <td>F</td>\n",
       "      <td>T</td>\n",
       "      <td>Barrier-Protected Ridge and Swale Complex</td>\n",
       "    </tr>\n",
       "    <tr>\n",
       "      <th>18921</th>\n",
       "      <td>118921</td>\n",
       "      <td>7816</td>\n",
       "      <td>7816</td>\n",
       "      <td>7816</td>\n",
       "      <td>7816</td>\n",
       "      <td>7816</td>\n",
       "      <td>130809</td>\n",
       "      <td>S13374174</td>\n",
       "      <td>L154628</td>\n",
       "      <td>42.839596</td>\n",
       "      <td>...</td>\n",
       "      <td>T</td>\n",
       "      <td>F</td>\n",
       "      <td>F</td>\n",
       "      <td>T</td>\n",
       "      <td>T</td>\n",
       "      <td>T</td>\n",
       "      <td>T</td>\n",
       "      <td>T</td>\n",
       "      <td>F</td>\n",
       "      <td>Lacustrine, Open Shoreline</td>\n",
       "    </tr>\n",
       "    <tr>\n",
       "      <th>18922</th>\n",
       "      <td>118922</td>\n",
       "      <td>7817</td>\n",
       "      <td>7817</td>\n",
       "      <td>7817</td>\n",
       "      <td>7817</td>\n",
       "      <td>7817</td>\n",
       "      <td>130810</td>\n",
       "      <td>S13374176</td>\n",
       "      <td>L167933</td>\n",
       "      <td>45.099990000000005</td>\n",
       "      <td>...</td>\n",
       "      <td>F</td>\n",
       "      <td>F</td>\n",
       "      <td>F</td>\n",
       "      <td>F</td>\n",
       "      <td>F</td>\n",
       "      <td>T</td>\n",
       "      <td>F</td>\n",
       "      <td>F</td>\n",
       "      <td>F</td>\n",
       "      <td>Barrier-Protected Ridge and Swale Complex</td>\n",
       "    </tr>\n",
       "    <tr>\n",
       "      <th>18923</th>\n",
       "      <td>118923</td>\n",
       "      <td>7821</td>\n",
       "      <td>7821</td>\n",
       "      <td>7821</td>\n",
       "      <td>7821</td>\n",
       "      <td>7821</td>\n",
       "      <td>130811</td>\n",
       "      <td>S13374185</td>\n",
       "      <td>L2226183</td>\n",
       "      <td>41.7431396</td>\n",
       "      <td>...</td>\n",
       "      <td>F</td>\n",
       "      <td>F</td>\n",
       "      <td>F</td>\n",
       "      <td>F</td>\n",
       "      <td>F</td>\n",
       "      <td>T</td>\n",
       "      <td>T</td>\n",
       "      <td>F</td>\n",
       "      <td>F</td>\n",
       "      <td>Barrier_Protected Successional Barrier Beach L...</td>\n",
       "    </tr>\n",
       "    <tr>\n",
       "      <th>18924</th>\n",
       "      <td>118924</td>\n",
       "      <td>7822</td>\n",
       "      <td>7822</td>\n",
       "      <td>7822</td>\n",
       "      <td>7822</td>\n",
       "      <td>7822</td>\n",
       "      <td>130812</td>\n",
       "      <td>S13374186</td>\n",
       "      <td>L1298077</td>\n",
       "      <td>45.0982759</td>\n",
       "      <td>...</td>\n",
       "      <td>F</td>\n",
       "      <td>F</td>\n",
       "      <td>F</td>\n",
       "      <td>F</td>\n",
       "      <td>F</td>\n",
       "      <td>T</td>\n",
       "      <td>F</td>\n",
       "      <td>F</td>\n",
       "      <td>F</td>\n",
       "      <td>Barrier-Protected Ridge and Swale Complex</td>\n",
       "    </tr>\n",
       "  </tbody>\n",
       "</table>\n",
       "<p>5 rows × 151 columns</p>\n",
       "</div>"
      ],
      "text/plain": [
       "      Unnamed: 0 Unnamed: 0.1 Unnamed: 0.1.1 Unnamed: 0.1.1.1  \\\n",
       "18920     118920         7815           7815             7815   \n",
       "18921     118921         7816           7816             7816   \n",
       "18922     118922         7817           7817             7817   \n",
       "18923     118923         7821           7821             7821   \n",
       "18924     118924         7822           7822             7822   \n",
       "\n",
       "      Unnamed: 0.1.1.1.1 Unnamed: 0.1.1.1.1.1 OBJECTID_X SAMPLING_E  LOC_ID_x  \\\n",
       "18920               7815                 7815     130808  S13374172   L193567   \n",
       "18921               7816                 7816     130809  S13374174   L154628   \n",
       "18922               7817                 7817     130810  S13374176   L167933   \n",
       "18923               7821                 7821     130811  S13374185  L2226183   \n",
       "18924               7822                 7822     130812  S13374186  L1298077   \n",
       "\n",
       "                 LATITUDE                        ...                          \\\n",
       "18920  43.157509999999995                        ...                           \n",
       "18921           42.839596                        ...                           \n",
       "18922  45.099990000000005                        ...                           \n",
       "18923          41.7431396                        ...                           \n",
       "18924          45.0982759                        ...                           \n",
       "\n",
       "      DITCH_CONS DYKES DAMS DREDGING JETTY ROAD_CONST FILLED MARINA  \\\n",
       "18920          T     F    F        F     F          T      T      F   \n",
       "18921          T     F    F        T     T          T      T      T   \n",
       "18922          F     F    F        F     F          T      F      F   \n",
       "18923          F     F    F        F     F          T      T      F   \n",
       "18924          F     F    F        F     F          T      F      F   \n",
       "\n",
       "      WASTE_SEWA                                           HGM_CLS1  \n",
       "18920          T          Barrier-Protected Ridge and Swale Complex  \n",
       "18921          F                         Lacustrine, Open Shoreline  \n",
       "18922          F          Barrier-Protected Ridge and Swale Complex  \n",
       "18923          F  Barrier_Protected Successional Barrier Beach L...  \n",
       "18924          F          Barrier-Protected Ridge and Swale Complex  \n",
       "\n",
       "[5 rows x 151 columns]"
      ]
     },
     "execution_count": 78,
     "metadata": {},
     "output_type": "execute_result"
    }
   ],
   "source": [
    "infile = \"../Datasets/merged4.csv\"\n",
    "merging = \"../GIS_Datasets/lakes.csv\"\n",
    "output = \"../Datasets/merged5.csv\"\n",
    "left_to_right = \"WETLANDS_ID\"\n",
    "right_to_left = \"OBJECTID_1\"\n",
    "suffix = \"_WETLANDS\"\n",
    "\n",
    "# df2 = pd.read_csv(merging, dtype=object)\n",
    "\n",
    "chunk = pd.DataFrame()\n",
    "m = pd.DataFrame()\n",
    "chunksize = 10**5\n",
    "\n",
    "with open(output, 'a') as outfile:\n",
    "        \n",
    "    i = 0\n",
    "    for chunk in pd.read_csv(infile, dtype=object, chunksize=chunksize):\n",
    "        m = pd.merge(chunk, df2, how='left', left_on=left_to_right, right_on=right_to_left, suffixes=['_X', suffix]).drop(right_to_left, axis=1)\n",
    "        if i == 0:        \n",
    "            m.to_csv(outfile, index=False)\n",
    "        else:\n",
    "            m.to_csv(outfile, header=None, index=False)\n",
    "        i+=1\n",
    "    print(infile, merging, \" have been inner merged to \", output, \" Chunks: \", i)\n",
    "    \n",
    "print(\"done\")\n",
    "m.tail()"
   ]
  },
  {
   "cell_type": "code",
   "execution_count": 80,
   "metadata": {
    "collapsed": false
   },
   "outputs": [
    {
     "data": {
      "text/plain": [
       "Index(['Unnamed: 0', 'Unnamed: 0.1', 'Unnamed: 0.1.1', 'Unnamed: 0.1.1.1',\n",
       "       'Unnamed: 0.1.1.1.1', 'Unnamed: 0.1.1.1.1.1', 'OBJECTID_X',\n",
       "       'SAMPLING_E', 'LOC_ID_x', 'LATITUDE',\n",
       "       ...\n",
       "       'DITCH_CONS', 'DYKES', 'DAMS', 'DREDGING', 'JETTY', 'ROAD_CONST',\n",
       "       'FILLED', 'MARINA', 'WASTE_SEWA', 'HGM_CLS1'],\n",
       "      dtype='object', length=151)"
      ]
     },
     "execution_count": 80,
     "metadata": {},
     "output_type": "execute_result"
    }
   ],
   "source": [
    "m.columns\n"
   ]
  },
  {
   "cell_type": "markdown",
   "metadata": {
    "collapsed": true
   },
   "source": [
    "### drop unrequired fields and clean up"
   ]
  },
  {
   "cell_type": "code",
   "execution_count": 14,
   "metadata": {
    "collapsed": false
   },
   "outputs": [],
   "source": [
    "infile = \"../Datasets/merged5.csv\"\n",
    "outfile = \"../Datasets/working.csv\"\n",
    "df1 = pd.read_csv(infile, dtype=object)\n",
    "# df1.drop(['Unnamed: 0', 'Unnamed: 0.1', 'Unnamed: 0.1.1', 'Unnamed: 0.1.1.1', 'Unnamed: 0.1.1.1.1', 'Unnamed: 0.1.1.1.1', 'Unnamed: 0.1.1.1.1.1'], axis=1, inplace=True)\n"
   ]
  },
  {
   "cell_type": "code",
   "execution_count": 15,
   "metadata": {
    "collapsed": false
   },
   "outputs": [
    {
     "name": "stdout",
     "output_type": "stream",
     "text": [
      "presence observations: (446, 145)\n",
      "absence observations: (118479, 145)\n",
      "presence observations: (446, 145)\n",
      "absence observations: (96162, 145)\n"
     ]
    }
   ],
   "source": [
    "#df1[\"Charadrius\"] = df1[\"Charadrius\"].replace('0', 0)\n",
    "df1.loc[(df1[\"Charadrius\"] == '0'), ['Charadrius']] = 0\n",
    "df1.loc[(df1[\"Charadrius\"] != 0) & (df1[\"Charadrius\"] != '0'), ['Charadrius']] = 1\n",
    " \n",
    "POS_LOC_ID = [row['LOC_ID_x'] for index, row in df1[df1['Charadrius'] == 1].iterrows()]\n",
    "NEG_LOC_ID = [row['LOC_ID_x'] for index, row in df1[df1['Charadrius'] == 0].iterrows()]\n",
    " \n",
    "pr = df1.loc[df1.Charadrius == 1]\n",
    "print('presence observations:', pr.shape)\n",
    "nopr = df1.loc[df1.Charadrius == 0]\n",
    "print('absence observations:', nopr.shape)\n",
    "\n",
    "for i in POS_LOC_ID:\n",
    "    df1.loc[(df1[\"Charadrius\"] == 0) & (df1[\"LOC_ID_x\"] == i), ['Charadrius']] = 9999\n",
    "        \n",
    "df1 = df1.loc[df1[\"Charadrius\"]!=9999]\n",
    "\n",
    "\n",
    "pr = df1.loc[df1.Charadrius == 1]\n",
    "print('presence observations:', pr.shape)\n",
    "nopr = df1.loc[df1.Charadrius == 0]\n",
    "print('absence observations:', nopr.shape)\n"
   ]
  },
  {
   "cell_type": "code",
   "execution_count": 16,
   "metadata": {
    "collapsed": false
   },
   "outputs": [
    {
     "name": "stdout",
     "output_type": "stream",
     "text": [
      "absence: 96162\n",
      "presence: 446\n"
     ]
    },
    {
     "data": {
      "text/plain": [
       "array([0, 1], dtype=object)"
      ]
     },
     "execution_count": 16,
     "metadata": {},
     "output_type": "execute_result"
    }
   ],
   "source": [
    "print(\"absence:\",sum(df1[\"Charadrius\"] == 0))\n",
    "print(\"presence:\",sum(df1[\"Charadrius\"] == 1))\n",
    "df1.Charadrius.unique()"
   ]
  },
  {
   "cell_type": "markdown",
   "metadata": {},
   "source": [
    "### save file"
   ]
  },
  {
   "cell_type": "code",
   "execution_count": 17,
   "metadata": {
    "collapsed": true
   },
   "outputs": [],
   "source": [
    "outfile1 = \"../Datasets/merged5a.csv\"\n",
    "df1.to_csv(outfile1, index=False)"
   ]
  },
  {
   "cell_type": "code",
   "execution_count": 18,
   "metadata": {
    "collapsed": false
   },
   "outputs": [
    {
     "name": "stdout",
     "output_type": "stream",
     "text": [
      "presence observations: (446, 120)\n",
      "(96608, 120)\n",
      "Charadrius\n",
      "REEF_DIST\n",
      "WETLANDS_DIST\n",
      "SHORECLASS_DIST\n",
      "ROAD_DIST\n",
      "ISLAND_DIST\n",
      "NEAR_DIST\n",
      "EASTNESS\n",
      "ELEV\n",
      "MODISWATER_FS_C0_1500_ED\n",
      "MODISWATER_FS_C0_1500_LPI\n",
      "MODISWATER_FS_C0_1500_PD\n",
      "MODISWATER_FS_C0_1500_PLAND\n",
      "MODISWATER_FS_C1_1500_ED\n",
      "MODISWATER_FS_C1_1500_LPI\n",
      "MODISWATER_FS_C1_1500_PD\n",
      "MODISWATER_FS_C1_1500_PLAND\n",
      "MODISWATER_FS_C2_1500_ED\n",
      "MODISWATER_FS_C2_1500_LPI\n",
      "MODISWATER_FS_C2_1500_PD\n",
      "MODISWATER_FS_C2_1500_PLAND\n",
      "MODISWATER_FS_C3_1500_ED\n",
      "MODISWATER_FS_C3_1500_LPI\n",
      "MODISWATER_FS_C3_1500_PD\n",
      "MODISWATER_FS_C3_1500_PLAND\n",
      "MODISWATER_FS_C5_1500_ED\n",
      "MODISWATER_FS_C5_1500_LPI\n",
      "MODISWATER_FS_C5_1500_PD\n",
      "MODISWATER_FS_C5_1500_PLAND\n",
      "MODISWATER_FS_C6_1500_ED\n",
      "MODISWATER_FS_C6_1500_LPI\n",
      "MODISWATER_FS_C6_1500_PD\n",
      "MODISWATER_FS_C6_1500_PLAND\n",
      "MODISWATER_FS_C7_1500_ED\n",
      "MODISWATER_FS_C7_1500_LPI\n",
      "MODISWATER_FS_C7_1500_PD\n",
      "MODISWATER_FS_C7_1500_PLAND\n",
      "NORTHNESS\n",
      "UMD_FS_C0_1500_ED\n",
      "UMD_FS_C0_1500_LPI\n",
      "UMD_FS_C0_1500_PD\n",
      "UMD_FS_C0_1500_PLAND\n",
      "UMD_FS_C1_1500_ED\n",
      "UMD_FS_C1_1500_LPI\n",
      "UMD_FS_C1_1500_PD\n",
      "UMD_FS_C1_1500_PLAND\n",
      "UMD_FS_C10_1500_ED\n",
      "UMD_FS_C10_1500_LPI\n",
      "UMD_FS_C10_1500_PD\n",
      "UMD_FS_C10_1500_PLAND\n",
      "UMD_FS_C12_1500_ED\n",
      "UMD_FS_C12_1500_LPI\n",
      "UMD_FS_C12_1500_PD\n",
      "UMD_FS_C12_1500_PLAND\n",
      "UMD_FS_C13_1500_ED\n",
      "UMD_FS_C13_1500_LPI\n",
      "UMD_FS_C13_1500_PD\n",
      "UMD_FS_C13_1500_PLAND\n",
      "UMD_FS_C16_1500_ED\n",
      "UMD_FS_C16_1500_LPI\n",
      "UMD_FS_C16_1500_PD\n",
      "UMD_FS_C16_1500_PLAND\n",
      "UMD_FS_C2_1500_ED\n",
      "UMD_FS_C2_1500_LPI\n",
      "UMD_FS_C2_1500_PD\n",
      "UMD_FS_C2_1500_PLAND\n",
      "UMD_FS_C3_1500_ED\n",
      "UMD_FS_C3_1500_LPI\n",
      "UMD_FS_C3_1500_PD\n",
      "UMD_FS_C3_1500_PLAND\n",
      "UMD_FS_C4_1500_ED\n",
      "UMD_FS_C4_1500_LPI\n",
      "UMD_FS_C4_1500_PD\n",
      "UMD_FS_C4_1500_PLAND\n",
      "UMD_FS_C5_1500_ED\n",
      "UMD_FS_C5_1500_LPI\n",
      "UMD_FS_C5_1500_PD\n",
      "UMD_FS_C5_1500_PLAND\n",
      "UMD_FS_C6_1500_ED\n",
      "UMD_FS_C6_1500_LPI\n",
      "UMD_FS_C6_1500_PD\n",
      "UMD_FS_C6_1500_PLAND\n",
      "UMD_FS_C7_1500_ED\n",
      "UMD_FS_C7_1500_LPI\n",
      "UMD_FS_C7_1500_PD\n",
      "UMD_FS_C7_1500_PLAND\n",
      "UMD_FS_C8_1500_ED\n",
      "UMD_FS_C8_1500_LPI\n",
      "UMD_FS_C8_1500_PD\n",
      "UMD_FS_C8_1500_PLAND\n",
      "UMD_FS_C9_1500_ED\n",
      "UMD_FS_C9_1500_LPI\n",
      "UMD_FS_C9_1500_PD\n",
      "UMD_FS_C9_1500_PLAND\n",
      "UMD_LANDCOVER\n",
      "UMD_WATERCOVER\n",
      "Shape_Length_X\n",
      "Shape_Area\n",
      "Description\n",
      "Shape_Length_SHORE\n",
      "SHORECLASS\n",
      "GNIS_Name\n",
      "AREA\n",
      "PERIMETER\n",
      "NWI\n",
      "WWI\n",
      "OWI\n",
      "HWI\n",
      "LOWI\n",
      "H_NUM\n",
      "DITCH_CONS\n",
      "DYKES\n",
      "DAMS\n",
      "DREDGING\n",
      "JETTY\n",
      "ROAD_CONST\n",
      "FILLED\n",
      "MARINA\n",
      "WASTE_SEWA\n",
      "HGM_CLS1\n"
     ]
    }
   ],
   "source": [
    "df1.drop(['LOC_ID_x','YEAR_x','OBJECTID_X', 'SAMPLING_E', 'LATITUDE', 'LONGITUDE', 'MONTH', 'TIME', 'DAY', 'COUNT_TYPE', 'EFFORT_HRS', 'EFFORT_DIS', 'EFFORT_ARE', 'REEF_ID', 'WETLANDS_ID', 'SHORECLASS_ID', 'ROAD_ID','ROAD_STATE','ISLAND_ID','NEAR_FID','Unnamed: 0.1.1.1.1.1.1', 'SAMPLING_EVENT_ID', 'LOC_ID_y','YEAR_y','OBJECTID_REEF'], axis=1, inplace=True)\n",
    "pr = df1.loc[(df1.Charadrius != '0') & (df1.Charadrius != 0)]\n",
    "print('presence observations:', pr.shape)\n",
    "print(df1.shape)\n",
    "for i in df1.columns:\n",
    "    print(i)"
   ]
  },
  {
   "cell_type": "code",
   "execution_count": 19,
   "metadata": {
    "collapsed": true
   },
   "outputs": [],
   "source": [
    "df1.to_csv(outfile, index=False)"
   ]
  },
  {
   "cell_type": "code",
   "execution_count": null,
   "metadata": {
    "collapsed": true
   },
   "outputs": [],
   "source": []
  }
 ],
 "metadata": {
  "anaconda-cloud": {},
  "kernelspec": {
   "display_name": "Python [conda env:Anaconda3]",
   "language": "python",
   "name": "conda-env-Anaconda3-py"
  },
  "language_info": {
   "codemirror_mode": {
    "name": "ipython",
    "version": 3
   },
   "file_extension": ".py",
   "mimetype": "text/x-python",
   "name": "python",
   "nbconvert_exporter": "python",
   "pygments_lexer": "ipython3",
   "version": "3.5.2"
  }
 },
 "nbformat": 4,
 "nbformat_minor": 1
}
